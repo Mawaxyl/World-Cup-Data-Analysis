{
 "cells": [
  {
   "cell_type": "markdown",
   "metadata": {},
   "source": [
    "# World Cup Data Exploration\n",
    "## by (Mukthar Abdulwaheed Olakunle)\n",
    "\n",
    "## Introduction\n",
    "\n",
    "Data from all World Cup results (1930-2014), details for each match (Date, Stage, City, Ref, Home Team, Away Team, Goals, Goals at Half, etc), and details for events (year of each tournament, host nation, etc). \n",
    "\n",
    "Data source; Gotten from [MavenAnalytics](https://www.mavenanalytics.io/data-playground?page=5&pageSize=5), source was derived from FIFA World Cup Archive\n",
    "\n",
    " \n",
    "\n",
    "\n",
    "\n",
    "## Preliminary Wrangling\n",
    "\n",
    "This is an exploration of 3 world cup datset that gives a detailed analysis of the most important events in the history of world cup.\n",
    "> **World Cup Matches** is the first dataset with over 800 matches.\n",
    "\n",
    "> **World Cup Players** is the next data with over 37,000 players details.\n",
    "\n",
    "> **World Cup Preview** gives details of year of tournamnets, hosting country, total goals scored, winners, etc."
   ]
  },
  {
   "cell_type": "code",
   "execution_count": 1,
   "metadata": {},
   "outputs": [],
   "source": [
    "# import all packages and set plots to be embedded inline\n",
    "import numpy as np\n",
    "import pandas as pd\n",
    "import matplotlib.pyplot as plt\n",
    "import seaborn as sb\n",
    "\n",
    "%matplotlib inline"
   ]
  },
  {
   "cell_type": "code",
   "execution_count": 2,
   "metadata": {},
   "outputs": [],
   "source": [
    "# load in the dataset into a pandas dataframe\n",
    "matches = pd.read_csv(r'WorldCupMatches.csv')\n",
    "players = pd.read_csv('WorldCupPlayers.csv')\n",
    "preview = pd.read_csv(r'WorldCups_preview.csv')"
   ]
  },
  {
   "cell_type": "markdown",
   "metadata": {},
   "source": [
    "### Wrangling for the Matches dataset"
   ]
  },
  {
   "cell_type": "code",
   "execution_count": 3,
   "metadata": {
    "scrolled": false
   },
   "outputs": [
    {
     "name": "stdout",
     "output_type": "stream",
     "text": [
      "(852, 20)\n"
     ]
    },
    {
     "data": {
      "text/html": [
       "<div>\n",
       "<style scoped>\n",
       "    .dataframe tbody tr th:only-of-type {\n",
       "        vertical-align: middle;\n",
       "    }\n",
       "\n",
       "    .dataframe tbody tr th {\n",
       "        vertical-align: top;\n",
       "    }\n",
       "\n",
       "    .dataframe thead th {\n",
       "        text-align: right;\n",
       "    }\n",
       "</style>\n",
       "<table border=\"1\" class=\"dataframe\">\n",
       "  <thead>\n",
       "    <tr style=\"text-align: right;\">\n",
       "      <th></th>\n",
       "      <th>Year</th>\n",
       "      <th>Datetime</th>\n",
       "      <th>Stage</th>\n",
       "      <th>Stadium</th>\n",
       "      <th>City</th>\n",
       "      <th>Home Team Name</th>\n",
       "      <th>Home Team Goals</th>\n",
       "      <th>Away Team Goals</th>\n",
       "      <th>Away Team Name</th>\n",
       "      <th>Win conditions</th>\n",
       "      <th>Attendance</th>\n",
       "      <th>Half-time Home Goals</th>\n",
       "      <th>Half-time Away Goals</th>\n",
       "      <th>Referee</th>\n",
       "      <th>Assistant 1</th>\n",
       "      <th>Assistant 2</th>\n",
       "      <th>RoundID</th>\n",
       "      <th>MatchID</th>\n",
       "      <th>Home Team Initials</th>\n",
       "      <th>Away Team Initials</th>\n",
       "    </tr>\n",
       "  </thead>\n",
       "  <tbody>\n",
       "    <tr>\n",
       "      <th>0</th>\n",
       "      <td>1930</td>\n",
       "      <td>1930-07-13 15:00:00</td>\n",
       "      <td>Group 1</td>\n",
       "      <td>Pocitos</td>\n",
       "      <td>Montevideo</td>\n",
       "      <td>France</td>\n",
       "      <td>4</td>\n",
       "      <td>1</td>\n",
       "      <td>Mexico</td>\n",
       "      <td></td>\n",
       "      <td>4444.0</td>\n",
       "      <td>3</td>\n",
       "      <td>0</td>\n",
       "      <td>LOMBARDI Domingo (URU)</td>\n",
       "      <td>CRISTOPHE Henry (BEL)</td>\n",
       "      <td>REGO Gilberto (BRA)</td>\n",
       "      <td>201</td>\n",
       "      <td>1096</td>\n",
       "      <td>FRA</td>\n",
       "      <td>MEX</td>\n",
       "    </tr>\n",
       "    <tr>\n",
       "      <th>1</th>\n",
       "      <td>1930</td>\n",
       "      <td>1930-07-13 15:00:00</td>\n",
       "      <td>Group 4</td>\n",
       "      <td>Parque Central</td>\n",
       "      <td>Montevideo</td>\n",
       "      <td>USA</td>\n",
       "      <td>3</td>\n",
       "      <td>0</td>\n",
       "      <td>Belgium</td>\n",
       "      <td></td>\n",
       "      <td>18346.0</td>\n",
       "      <td>2</td>\n",
       "      <td>0</td>\n",
       "      <td>MACIAS Jose (ARG)</td>\n",
       "      <td>MATEUCCI Francisco (URU)</td>\n",
       "      <td>WARNKEN Alberto (CHI)</td>\n",
       "      <td>201</td>\n",
       "      <td>1090</td>\n",
       "      <td>USA</td>\n",
       "      <td>BEL</td>\n",
       "    </tr>\n",
       "    <tr>\n",
       "      <th>2</th>\n",
       "      <td>1930</td>\n",
       "      <td>1930-07-14 12:45:00</td>\n",
       "      <td>Group 2</td>\n",
       "      <td>Parque Central</td>\n",
       "      <td>Montevideo</td>\n",
       "      <td>Yugoslavia</td>\n",
       "      <td>2</td>\n",
       "      <td>1</td>\n",
       "      <td>Brazil</td>\n",
       "      <td></td>\n",
       "      <td>24059.0</td>\n",
       "      <td>2</td>\n",
       "      <td>0</td>\n",
       "      <td>TEJADA Anibal (URU)</td>\n",
       "      <td>VALLARINO Ricardo (URU)</td>\n",
       "      <td>BALWAY Thomas (FRA)</td>\n",
       "      <td>201</td>\n",
       "      <td>1093</td>\n",
       "      <td>YUG</td>\n",
       "      <td>BRA</td>\n",
       "    </tr>\n",
       "    <tr>\n",
       "      <th>3</th>\n",
       "      <td>1930</td>\n",
       "      <td>1930-07-14 14:50:00</td>\n",
       "      <td>Group 3</td>\n",
       "      <td>Pocitos</td>\n",
       "      <td>Montevideo</td>\n",
       "      <td>Romania</td>\n",
       "      <td>3</td>\n",
       "      <td>1</td>\n",
       "      <td>Peru</td>\n",
       "      <td></td>\n",
       "      <td>2549.0</td>\n",
       "      <td>1</td>\n",
       "      <td>0</td>\n",
       "      <td>WARNKEN Alberto (CHI)</td>\n",
       "      <td>LANGENUS Jean (BEL)</td>\n",
       "      <td>MATEUCCI Francisco (URU)</td>\n",
       "      <td>201</td>\n",
       "      <td>1098</td>\n",
       "      <td>ROU</td>\n",
       "      <td>PER</td>\n",
       "    </tr>\n",
       "    <tr>\n",
       "      <th>4</th>\n",
       "      <td>1930</td>\n",
       "      <td>1930-07-15 16:00:00</td>\n",
       "      <td>Group 1</td>\n",
       "      <td>Parque Central</td>\n",
       "      <td>Montevideo</td>\n",
       "      <td>Argentina</td>\n",
       "      <td>1</td>\n",
       "      <td>0</td>\n",
       "      <td>France</td>\n",
       "      <td></td>\n",
       "      <td>23409.0</td>\n",
       "      <td>0</td>\n",
       "      <td>0</td>\n",
       "      <td>REGO Gilberto (BRA)</td>\n",
       "      <td>SAUCEDO Ulises (BOL)</td>\n",
       "      <td>RADULESCU Constantin (ROU)</td>\n",
       "      <td>201</td>\n",
       "      <td>1085</td>\n",
       "      <td>ARG</td>\n",
       "      <td>FRA</td>\n",
       "    </tr>\n",
       "  </tbody>\n",
       "</table>\n",
       "</div>"
      ],
      "text/plain": [
       "   Year             Datetime    Stage         Stadium         City  \\\n",
       "0  1930  1930-07-13 15:00:00  Group 1         Pocitos  Montevideo    \n",
       "1  1930  1930-07-13 15:00:00  Group 4  Parque Central  Montevideo    \n",
       "2  1930  1930-07-14 12:45:00  Group 2  Parque Central  Montevideo    \n",
       "3  1930  1930-07-14 14:50:00  Group 3         Pocitos  Montevideo    \n",
       "4  1930  1930-07-15 16:00:00  Group 1  Parque Central  Montevideo    \n",
       "\n",
       "  Home Team Name  Home Team Goals  Away Team Goals Away Team Name  \\\n",
       "0         France                4                1         Mexico   \n",
       "1            USA                3                0        Belgium   \n",
       "2     Yugoslavia                2                1         Brazil   \n",
       "3        Romania                3                1           Peru   \n",
       "4      Argentina                1                0         France   \n",
       "\n",
       "  Win conditions  Attendance  Half-time Home Goals  Half-time Away Goals  \\\n",
       "0                     4444.0                     3                     0   \n",
       "1                    18346.0                     2                     0   \n",
       "2                    24059.0                     2                     0   \n",
       "3                     2549.0                     1                     0   \n",
       "4                    23409.0                     0                     0   \n",
       "\n",
       "                  Referee               Assistant 1  \\\n",
       "0  LOMBARDI Domingo (URU)     CRISTOPHE Henry (BEL)   \n",
       "1       MACIAS Jose (ARG)  MATEUCCI Francisco (URU)   \n",
       "2     TEJADA Anibal (URU)   VALLARINO Ricardo (URU)   \n",
       "3   WARNKEN Alberto (CHI)       LANGENUS Jean (BEL)   \n",
       "4     REGO Gilberto (BRA)      SAUCEDO Ulises (BOL)   \n",
       "\n",
       "                  Assistant 2  RoundID  MatchID Home Team Initials  \\\n",
       "0         REGO Gilberto (BRA)      201     1096                FRA   \n",
       "1       WARNKEN Alberto (CHI)      201     1090                USA   \n",
       "2         BALWAY Thomas (FRA)      201     1093                YUG   \n",
       "3    MATEUCCI Francisco (URU)      201     1098                ROU   \n",
       "4  RADULESCU Constantin (ROU)      201     1085                ARG   \n",
       "\n",
       "  Away Team Initials  \n",
       "0                MEX  \n",
       "1                BEL  \n",
       "2                BRA  \n",
       "3                PER  \n",
       "4                FRA  "
      ]
     },
     "execution_count": 3,
     "metadata": {},
     "output_type": "execute_result"
    }
   ],
   "source": [
    "# let's have an overview of the dataset\n",
    "# 1. World Cup Matches\n",
    "print(matches.shape)\n",
    "matches.head()"
   ]
  },
  {
   "cell_type": "markdown",
   "metadata": {},
   "source": [
    "The data wrangling to be done are;\n",
    "- Create a new columns in matches dataset, that shows **win**, **loss** or **draw** based on goals scored between `Home Team Goals` and `Home Team Goals`"
   ]
  },
  {
   "cell_type": "code",
   "execution_count": 4,
   "metadata": {},
   "outputs": [],
   "source": [
    "# defining a function to create a new column where we to show the results of the home team \n",
    "def home_team(row):\n",
    "    if row['Home Team Goals'] > row['Away Team Goals']:\n",
    "        return 'Win'\n",
    "    elif row['Home Team Goals'] < row['Away Team Goals']:\n",
    "        return 'Loss'\n",
    "    else:\n",
    "        return 'Draw'\n",
    "\n",
    "matches = matches.assign(Home_Team_Results=matches.apply(home_team, axis=1))"
   ]
  },
  {
   "cell_type": "code",
   "execution_count": 5,
   "metadata": {},
   "outputs": [],
   "source": [
    "# defining a function to create a new column where we to show the results of the away team \n",
    "def away_team(row):\n",
    "    if row['Away Team Goals'] > row['Home Team Goals']:\n",
    "        return 'Win'\n",
    "    elif row['Away Team Goals'] < row['Home Team Goals']:\n",
    "        return 'Loss'\n",
    "    else:\n",
    "        return 'Draw'\n",
    "    \n",
    "matches = matches.assign(Away_Team_Results=matches.apply(away_team, axis=1))"
   ]
  },
  {
   "cell_type": "code",
   "execution_count": 6,
   "metadata": {},
   "outputs": [
    {
     "data": {
      "text/html": [
       "<div>\n",
       "<style scoped>\n",
       "    .dataframe tbody tr th:only-of-type {\n",
       "        vertical-align: middle;\n",
       "    }\n",
       "\n",
       "    .dataframe tbody tr th {\n",
       "        vertical-align: top;\n",
       "    }\n",
       "\n",
       "    .dataframe thead th {\n",
       "        text-align: right;\n",
       "    }\n",
       "</style>\n",
       "<table border=\"1\" class=\"dataframe\">\n",
       "  <thead>\n",
       "    <tr style=\"text-align: right;\">\n",
       "      <th></th>\n",
       "      <th>Year</th>\n",
       "      <th>Datetime</th>\n",
       "      <th>Stage</th>\n",
       "      <th>Stadium</th>\n",
       "      <th>City</th>\n",
       "      <th>Home Team Name</th>\n",
       "      <th>Home Team Goals</th>\n",
       "      <th>Away Team Goals</th>\n",
       "      <th>Away Team Name</th>\n",
       "      <th>Win conditions</th>\n",
       "      <th>...</th>\n",
       "      <th>Half-time Away Goals</th>\n",
       "      <th>Referee</th>\n",
       "      <th>Assistant 1</th>\n",
       "      <th>Assistant 2</th>\n",
       "      <th>RoundID</th>\n",
       "      <th>MatchID</th>\n",
       "      <th>Home Team Initials</th>\n",
       "      <th>Away Team Initials</th>\n",
       "      <th>Home_Team_Results</th>\n",
       "      <th>Away_Team_Results</th>\n",
       "    </tr>\n",
       "  </thead>\n",
       "  <tbody>\n",
       "    <tr>\n",
       "      <th>0</th>\n",
       "      <td>1930</td>\n",
       "      <td>1930-07-13 15:00:00</td>\n",
       "      <td>Group 1</td>\n",
       "      <td>Pocitos</td>\n",
       "      <td>Montevideo</td>\n",
       "      <td>France</td>\n",
       "      <td>4</td>\n",
       "      <td>1</td>\n",
       "      <td>Mexico</td>\n",
       "      <td></td>\n",
       "      <td>...</td>\n",
       "      <td>0</td>\n",
       "      <td>LOMBARDI Domingo (URU)</td>\n",
       "      <td>CRISTOPHE Henry (BEL)</td>\n",
       "      <td>REGO Gilberto (BRA)</td>\n",
       "      <td>201</td>\n",
       "      <td>1096</td>\n",
       "      <td>FRA</td>\n",
       "      <td>MEX</td>\n",
       "      <td>Win</td>\n",
       "      <td>Loss</td>\n",
       "    </tr>\n",
       "    <tr>\n",
       "      <th>1</th>\n",
       "      <td>1930</td>\n",
       "      <td>1930-07-13 15:00:00</td>\n",
       "      <td>Group 4</td>\n",
       "      <td>Parque Central</td>\n",
       "      <td>Montevideo</td>\n",
       "      <td>USA</td>\n",
       "      <td>3</td>\n",
       "      <td>0</td>\n",
       "      <td>Belgium</td>\n",
       "      <td></td>\n",
       "      <td>...</td>\n",
       "      <td>0</td>\n",
       "      <td>MACIAS Jose (ARG)</td>\n",
       "      <td>MATEUCCI Francisco (URU)</td>\n",
       "      <td>WARNKEN Alberto (CHI)</td>\n",
       "      <td>201</td>\n",
       "      <td>1090</td>\n",
       "      <td>USA</td>\n",
       "      <td>BEL</td>\n",
       "      <td>Win</td>\n",
       "      <td>Loss</td>\n",
       "    </tr>\n",
       "    <tr>\n",
       "      <th>2</th>\n",
       "      <td>1930</td>\n",
       "      <td>1930-07-14 12:45:00</td>\n",
       "      <td>Group 2</td>\n",
       "      <td>Parque Central</td>\n",
       "      <td>Montevideo</td>\n",
       "      <td>Yugoslavia</td>\n",
       "      <td>2</td>\n",
       "      <td>1</td>\n",
       "      <td>Brazil</td>\n",
       "      <td></td>\n",
       "      <td>...</td>\n",
       "      <td>0</td>\n",
       "      <td>TEJADA Anibal (URU)</td>\n",
       "      <td>VALLARINO Ricardo (URU)</td>\n",
       "      <td>BALWAY Thomas (FRA)</td>\n",
       "      <td>201</td>\n",
       "      <td>1093</td>\n",
       "      <td>YUG</td>\n",
       "      <td>BRA</td>\n",
       "      <td>Win</td>\n",
       "      <td>Loss</td>\n",
       "    </tr>\n",
       "    <tr>\n",
       "      <th>3</th>\n",
       "      <td>1930</td>\n",
       "      <td>1930-07-14 14:50:00</td>\n",
       "      <td>Group 3</td>\n",
       "      <td>Pocitos</td>\n",
       "      <td>Montevideo</td>\n",
       "      <td>Romania</td>\n",
       "      <td>3</td>\n",
       "      <td>1</td>\n",
       "      <td>Peru</td>\n",
       "      <td></td>\n",
       "      <td>...</td>\n",
       "      <td>0</td>\n",
       "      <td>WARNKEN Alberto (CHI)</td>\n",
       "      <td>LANGENUS Jean (BEL)</td>\n",
       "      <td>MATEUCCI Francisco (URU)</td>\n",
       "      <td>201</td>\n",
       "      <td>1098</td>\n",
       "      <td>ROU</td>\n",
       "      <td>PER</td>\n",
       "      <td>Win</td>\n",
       "      <td>Loss</td>\n",
       "    </tr>\n",
       "    <tr>\n",
       "      <th>4</th>\n",
       "      <td>1930</td>\n",
       "      <td>1930-07-15 16:00:00</td>\n",
       "      <td>Group 1</td>\n",
       "      <td>Parque Central</td>\n",
       "      <td>Montevideo</td>\n",
       "      <td>Argentina</td>\n",
       "      <td>1</td>\n",
       "      <td>0</td>\n",
       "      <td>France</td>\n",
       "      <td></td>\n",
       "      <td>...</td>\n",
       "      <td>0</td>\n",
       "      <td>REGO Gilberto (BRA)</td>\n",
       "      <td>SAUCEDO Ulises (BOL)</td>\n",
       "      <td>RADULESCU Constantin (ROU)</td>\n",
       "      <td>201</td>\n",
       "      <td>1085</td>\n",
       "      <td>ARG</td>\n",
       "      <td>FRA</td>\n",
       "      <td>Win</td>\n",
       "      <td>Loss</td>\n",
       "    </tr>\n",
       "  </tbody>\n",
       "</table>\n",
       "<p>5 rows × 22 columns</p>\n",
       "</div>"
      ],
      "text/plain": [
       "   Year             Datetime    Stage         Stadium         City  \\\n",
       "0  1930  1930-07-13 15:00:00  Group 1         Pocitos  Montevideo    \n",
       "1  1930  1930-07-13 15:00:00  Group 4  Parque Central  Montevideo    \n",
       "2  1930  1930-07-14 12:45:00  Group 2  Parque Central  Montevideo    \n",
       "3  1930  1930-07-14 14:50:00  Group 3         Pocitos  Montevideo    \n",
       "4  1930  1930-07-15 16:00:00  Group 1  Parque Central  Montevideo    \n",
       "\n",
       "  Home Team Name  Home Team Goals  Away Team Goals Away Team Name  \\\n",
       "0         France                4                1         Mexico   \n",
       "1            USA                3                0        Belgium   \n",
       "2     Yugoslavia                2                1         Brazil   \n",
       "3        Romania                3                1           Peru   \n",
       "4      Argentina                1                0         France   \n",
       "\n",
       "  Win conditions  ...  Half-time Away Goals                 Referee  \\\n",
       "0                 ...                     0  LOMBARDI Domingo (URU)   \n",
       "1                 ...                     0       MACIAS Jose (ARG)   \n",
       "2                 ...                     0     TEJADA Anibal (URU)   \n",
       "3                 ...                     0   WARNKEN Alberto (CHI)   \n",
       "4                 ...                     0     REGO Gilberto (BRA)   \n",
       "\n",
       "                Assistant 1                 Assistant 2 RoundID MatchID  \\\n",
       "0     CRISTOPHE Henry (BEL)         REGO Gilberto (BRA)     201    1096   \n",
       "1  MATEUCCI Francisco (URU)       WARNKEN Alberto (CHI)     201    1090   \n",
       "2   VALLARINO Ricardo (URU)         BALWAY Thomas (FRA)     201    1093   \n",
       "3       LANGENUS Jean (BEL)    MATEUCCI Francisco (URU)     201    1098   \n",
       "4      SAUCEDO Ulises (BOL)  RADULESCU Constantin (ROU)     201    1085   \n",
       "\n",
       "   Home Team Initials  Away Team Initials Home_Team_Results Away_Team_Results  \n",
       "0                 FRA                 MEX               Win              Loss  \n",
       "1                 USA                 BEL               Win              Loss  \n",
       "2                 YUG                 BRA               Win              Loss  \n",
       "3                 ROU                 PER               Win              Loss  \n",
       "4                 ARG                 FRA               Win              Loss  \n",
       "\n",
       "[5 rows x 22 columns]"
      ]
     },
     "execution_count": 6,
     "metadata": {},
     "output_type": "execute_result"
    }
   ],
   "source": [
    "# let's confirm the new columns\n",
    "matches.head()"
   ]
  },
  {
   "cell_type": "markdown",
   "metadata": {},
   "source": [
    "Note that the value counts of `Home_Team_Results` and `Home_Team_Results` will be the same, the column is needed for analysis to know the teams performance both as home team and away team. "
   ]
  },
  {
   "cell_type": "code",
   "execution_count": 7,
   "metadata": {},
   "outputs": [
    {
     "data": {
      "text/plain": [
       "Win     488\n",
       "Draw    190\n",
       "Loss    174\n",
       "Name: Home_Team_Results, dtype: int64"
      ]
     },
     "execution_count": 7,
     "metadata": {},
     "output_type": "execute_result"
    }
   ],
   "source": [
    "matches.Home_Team_Results.value_counts()"
   ]
  },
  {
   "cell_type": "code",
   "execution_count": 8,
   "metadata": {},
   "outputs": [
    {
     "data": {
      "text/plain": [
       "Loss    488\n",
       "Draw    190\n",
       "Win     174\n",
       "Name: Away_Team_Results, dtype: int64"
      ]
     },
     "execution_count": 8,
     "metadata": {},
     "output_type": "execute_result"
    }
   ],
   "source": [
    "matches.Away_Team_Results.value_counts()"
   ]
  },
  {
   "cell_type": "code",
   "execution_count": 9,
   "metadata": {},
   "outputs": [
    {
     "data": {
      "text/plain": [
       "Index(['Year', 'Datetime', 'Stage', 'Stadium', 'City', 'Home Team Name',\n",
       "       'Home Team Goals', 'Away Team Goals', 'Away Team Name',\n",
       "       'Win conditions', 'Attendance', 'Half-time Home Goals',\n",
       "       'Half-time Away Goals', 'Referee', 'Assistant 1', 'Assistant 2',\n",
       "       'RoundID', 'MatchID', 'Home Team Initials', 'Away Team Initials',\n",
       "       'Home_Team_Results', 'Away_Team_Results'],\n",
       "      dtype='object')"
      ]
     },
     "execution_count": 9,
     "metadata": {},
     "output_type": "execute_result"
    }
   ],
   "source": [
    "matches.columns"
   ]
  },
  {
   "cell_type": "code",
   "execution_count": 10,
   "metadata": {},
   "outputs": [
    {
     "data": {
      "text/plain": [
       "Year                      int64\n",
       "Datetime                 object\n",
       "Stage                    object\n",
       "Stadium                  object\n",
       "City                     object\n",
       "Home Team Name           object\n",
       "Home Team Goals           int64\n",
       "Away Team Goals           int64\n",
       "Away Team Name           object\n",
       "Win conditions           object\n",
       "Attendance              float64\n",
       "Half-time Home Goals      int64\n",
       "Half-time Away Goals      int64\n",
       "Referee                  object\n",
       "Assistant 1              object\n",
       "Assistant 2              object\n",
       "RoundID                   int64\n",
       "MatchID                   int64\n",
       "Home Team Initials       object\n",
       "Away Team Initials       object\n",
       "Home_Team_Results        object\n",
       "Away_Team_Results        object\n",
       "dtype: object"
      ]
     },
     "execution_count": 10,
     "metadata": {},
     "output_type": "execute_result"
    }
   ],
   "source": [
    "# checking the dtypes\n",
    "matches.dtypes"
   ]
  },
  {
   "cell_type": "code",
   "execution_count": 11,
   "metadata": {},
   "outputs": [
    {
     "name": "stderr",
     "output_type": "stream",
     "text": [
      "<ipython-input-11-273062d27fb6>:4: FutureWarning: In a future version of pandas all arguments of DataFrame.drop except for the argument 'labels' will be keyword-only.\n",
      "  matches = matches.drop(drop_columns, 1)\n"
     ]
    }
   ],
   "source": [
    "# Drop columns not needed\n",
    "drop_columns = ['Win conditions', 'RoundID', 'MatchID', 'Home Team Initials', 'Away Team Initials']\n",
    "\n",
    "matches = matches.drop(drop_columns, 1)"
   ]
  },
  {
   "cell_type": "code",
   "execution_count": 12,
   "metadata": {},
   "outputs": [
    {
     "data": {
      "text/plain": [
       "Index(['Year', 'Datetime', 'Stage', 'Stadium', 'City', 'Home Team Name',\n",
       "       'Home Team Goals', 'Away Team Goals', 'Away Team Name', 'Attendance',\n",
       "       'Half-time Home Goals', 'Half-time Away Goals', 'Referee',\n",
       "       'Assistant 1', 'Assistant 2', 'Home_Team_Results', 'Away_Team_Results'],\n",
       "      dtype='object')"
      ]
     },
     "execution_count": 12,
     "metadata": {},
     "output_type": "execute_result"
    }
   ],
   "source": [
    "# confirm the drop\n",
    "matches.columns"
   ]
  },
  {
   "cell_type": "code",
   "execution_count": 13,
   "metadata": {
    "scrolled": false
   },
   "outputs": [
    {
     "name": "stdout",
     "output_type": "stream",
     "text": [
      "<class 'pandas.core.frame.DataFrame'>\n",
      "RangeIndex: 852 entries, 0 to 851\n",
      "Data columns (total 17 columns):\n",
      " #   Column                Non-Null Count  Dtype  \n",
      "---  ------                --------------  -----  \n",
      " 0   Year                  852 non-null    int64  \n",
      " 1   Datetime              852 non-null    object \n",
      " 2   Stage                 852 non-null    object \n",
      " 3   Stadium               852 non-null    object \n",
      " 4   City                  852 non-null    object \n",
      " 5   Home Team Name        852 non-null    object \n",
      " 6   Home Team Goals       852 non-null    int64  \n",
      " 7   Away Team Goals       852 non-null    int64  \n",
      " 8   Away Team Name        852 non-null    object \n",
      " 9   Attendance            850 non-null    float64\n",
      " 10  Half-time Home Goals  852 non-null    int64  \n",
      " 11  Half-time Away Goals  852 non-null    int64  \n",
      " 12  Referee               852 non-null    object \n",
      " 13  Assistant 1           852 non-null    object \n",
      " 14  Assistant 2           852 non-null    object \n",
      " 15  Home_Team_Results     852 non-null    object \n",
      " 16  Away_Team_Results     852 non-null    object \n",
      "dtypes: float64(1), int64(5), object(11)\n",
      "memory usage: 113.3+ KB\n"
     ]
    }
   ],
   "source": [
    "matches.info()"
   ]
  },
  {
   "cell_type": "code",
   "execution_count": 14,
   "metadata": {},
   "outputs": [
    {
     "data": {
      "text/plain": [
       "16"
      ]
     },
     "execution_count": 14,
     "metadata": {},
     "output_type": "execute_result"
    }
   ],
   "source": [
    "# check for duplicates in matches dataset\n",
    "matches.duplicated().sum()"
   ]
  },
  {
   "cell_type": "code",
   "execution_count": 15,
   "metadata": {},
   "outputs": [],
   "source": [
    "# drop the duplicates\n",
    "matches.drop_duplicates(inplace=True)"
   ]
  },
  {
   "cell_type": "code",
   "execution_count": 16,
   "metadata": {},
   "outputs": [
    {
     "data": {
      "text/plain": [
       "0"
      ]
     },
     "execution_count": 16,
     "metadata": {},
     "output_type": "execute_result"
    }
   ],
   "source": [
    "# confirm the drops\n",
    "matches.duplicated().sum()"
   ]
  },
  {
   "cell_type": "code",
   "execution_count": 17,
   "metadata": {},
   "outputs": [
    {
     "data": {
      "text/plain": [
       "Year                    0\n",
       "Datetime                0\n",
       "Stage                   0\n",
       "Stadium                 0\n",
       "City                    0\n",
       "Home Team Name          0\n",
       "Home Team Goals         0\n",
       "Away Team Goals         0\n",
       "Away Team Name          0\n",
       "Attendance              1\n",
       "Half-time Home Goals    0\n",
       "Half-time Away Goals    0\n",
       "Referee                 0\n",
       "Assistant 1             0\n",
       "Assistant 2             0\n",
       "Home_Team_Results       0\n",
       "Away_Team_Results       0\n",
       "dtype: int64"
      ]
     },
     "execution_count": 17,
     "metadata": {},
     "output_type": "execute_result"
    }
   ],
   "source": [
    "# check for missing value for matches\n",
    "matches.isna().sum()"
   ]
  },
  {
   "cell_type": "code",
   "execution_count": 18,
   "metadata": {},
   "outputs": [],
   "source": [
    "# lets drop the missing value since its just 1\n",
    "matches.dropna(inplace=True)"
   ]
  },
  {
   "cell_type": "code",
   "execution_count": 19,
   "metadata": {},
   "outputs": [
    {
     "data": {
      "text/plain": [
       "Year                    0\n",
       "Datetime                0\n",
       "Stage                   0\n",
       "Stadium                 0\n",
       "City                    0\n",
       "Home Team Name          0\n",
       "Home Team Goals         0\n",
       "Away Team Goals         0\n",
       "Away Team Name          0\n",
       "Attendance              0\n",
       "Half-time Home Goals    0\n",
       "Half-time Away Goals    0\n",
       "Referee                 0\n",
       "Assistant 1             0\n",
       "Assistant 2             0\n",
       "Home_Team_Results       0\n",
       "Away_Team_Results       0\n",
       "dtype: int64"
      ]
     },
     "execution_count": 19,
     "metadata": {},
     "output_type": "execute_result"
    }
   ],
   "source": [
    "#confirm the missing values\n",
    "matches.isnull().sum()"
   ]
  },
  {
   "cell_type": "code",
   "execution_count": 20,
   "metadata": {},
   "outputs": [
    {
     "data": {
      "text/plain": [
       "Round of 16                 63\n",
       "Group 1                     62\n",
       "Quarter-finals              62\n",
       "Group A                     60\n",
       "Group B                     60\n",
       "Group 2                     59\n",
       "Group 3                     56\n",
       "Group 4                     55\n",
       "Group C                     48\n",
       "Group D                     48\n",
       "Group E                     48\n",
       "Group F                     48\n",
       "Semi-finals                 34\n",
       "Group G                     30\n",
       "Group H                     30\n",
       "Final                       19\n",
       "Match for third place       15\n",
       "Group 6                     12\n",
       "First round                  9\n",
       "Preliminary round            8\n",
       "Group 5                      6\n",
       "Third place                  2\n",
       "Play-off for third place     1\n",
       "Name: Stage, dtype: int64"
      ]
     },
     "execution_count": 20,
     "metadata": {},
     "output_type": "execute_result"
    }
   ],
   "source": [
    "# check for value counts\n",
    "matches.Stage.value_counts()"
   ]
  },
  {
   "cell_type": "code",
   "execution_count": 21,
   "metadata": {},
   "outputs": [
    {
     "data": {
      "text/html": [
       "<div>\n",
       "<style scoped>\n",
       "    .dataframe tbody tr th:only-of-type {\n",
       "        vertical-align: middle;\n",
       "    }\n",
       "\n",
       "    .dataframe tbody tr th {\n",
       "        vertical-align: top;\n",
       "    }\n",
       "\n",
       "    .dataframe thead th {\n",
       "        text-align: right;\n",
       "    }\n",
       "</style>\n",
       "<table border=\"1\" class=\"dataframe\">\n",
       "  <thead>\n",
       "    <tr style=\"text-align: right;\">\n",
       "      <th></th>\n",
       "      <th>Year</th>\n",
       "      <th>Home Team Goals</th>\n",
       "      <th>Away Team Goals</th>\n",
       "      <th>Attendance</th>\n",
       "      <th>Half-time Home Goals</th>\n",
       "      <th>Half-time Away Goals</th>\n",
       "    </tr>\n",
       "  </thead>\n",
       "  <tbody>\n",
       "    <tr>\n",
       "      <th>count</th>\n",
       "      <td>835.000000</td>\n",
       "      <td>835.000000</td>\n",
       "      <td>835.000000</td>\n",
       "      <td>835.000000</td>\n",
       "      <td>835.000000</td>\n",
       "      <td>835.000000</td>\n",
       "    </tr>\n",
       "    <tr>\n",
       "      <th>mean</th>\n",
       "      <td>1984.500599</td>\n",
       "      <td>1.823952</td>\n",
       "      <td>1.021557</td>\n",
       "      <td>44859.457485</td>\n",
       "      <td>0.719760</td>\n",
       "      <td>0.427545</td>\n",
       "    </tr>\n",
       "    <tr>\n",
       "      <th>std</th>\n",
       "      <td>22.289859</td>\n",
       "      <td>1.620137</td>\n",
       "      <td>1.072667</td>\n",
       "      <td>23551.107893</td>\n",
       "      <td>0.942231</td>\n",
       "      <td>0.675333</td>\n",
       "    </tr>\n",
       "    <tr>\n",
       "      <th>min</th>\n",
       "      <td>1930.000000</td>\n",
       "      <td>0.000000</td>\n",
       "      <td>0.000000</td>\n",
       "      <td>2000.000000</td>\n",
       "      <td>0.000000</td>\n",
       "      <td>0.000000</td>\n",
       "    </tr>\n",
       "    <tr>\n",
       "      <th>25%</th>\n",
       "      <td>1970.000000</td>\n",
       "      <td>1.000000</td>\n",
       "      <td>0.000000</td>\n",
       "      <td>29800.000000</td>\n",
       "      <td>0.000000</td>\n",
       "      <td>0.000000</td>\n",
       "    </tr>\n",
       "    <tr>\n",
       "      <th>50%</th>\n",
       "      <td>1990.000000</td>\n",
       "      <td>2.000000</td>\n",
       "      <td>1.000000</td>\n",
       "      <td>41000.000000</td>\n",
       "      <td>0.000000</td>\n",
       "      <td>0.000000</td>\n",
       "    </tr>\n",
       "    <tr>\n",
       "      <th>75%</th>\n",
       "      <td>2002.000000</td>\n",
       "      <td>3.000000</td>\n",
       "      <td>2.000000</td>\n",
       "      <td>61009.000000</td>\n",
       "      <td>1.000000</td>\n",
       "      <td>1.000000</td>\n",
       "    </tr>\n",
       "    <tr>\n",
       "      <th>max</th>\n",
       "      <td>2014.000000</td>\n",
       "      <td>10.000000</td>\n",
       "      <td>7.000000</td>\n",
       "      <td>173850.000000</td>\n",
       "      <td>6.000000</td>\n",
       "      <td>5.000000</td>\n",
       "    </tr>\n",
       "  </tbody>\n",
       "</table>\n",
       "</div>"
      ],
      "text/plain": [
       "              Year  Home Team Goals  Away Team Goals     Attendance  \\\n",
       "count   835.000000       835.000000       835.000000     835.000000   \n",
       "mean   1984.500599         1.823952         1.021557   44859.457485   \n",
       "std      22.289859         1.620137         1.072667   23551.107893   \n",
       "min    1930.000000         0.000000         0.000000    2000.000000   \n",
       "25%    1970.000000         1.000000         0.000000   29800.000000   \n",
       "50%    1990.000000         2.000000         1.000000   41000.000000   \n",
       "75%    2002.000000         3.000000         2.000000   61009.000000   \n",
       "max    2014.000000        10.000000         7.000000  173850.000000   \n",
       "\n",
       "       Half-time Home Goals  Half-time Away Goals  \n",
       "count            835.000000            835.000000  \n",
       "mean               0.719760              0.427545  \n",
       "std                0.942231              0.675333  \n",
       "min                0.000000              0.000000  \n",
       "25%                0.000000              0.000000  \n",
       "50%                0.000000              0.000000  \n",
       "75%                1.000000              1.000000  \n",
       "max                6.000000              5.000000  "
      ]
     },
     "execution_count": 21,
     "metadata": {},
     "output_type": "execute_result"
    }
   ],
   "source": [
    "# descriptive stattistics\n",
    "matches.describe()"
   ]
  },
  {
   "cell_type": "code",
   "execution_count": 22,
   "metadata": {},
   "outputs": [
    {
     "data": {
      "text/plain": [
       "Brazil                        78\n",
       "Italy                         57\n",
       "Argentina                     52\n",
       "Germany FR                    43\n",
       "England                       35\n",
       "                              ..\n",
       "Wales                          1\n",
       "Norway                         1\n",
       "rn\">United Arab Emirates       1\n",
       "Haiti                          1\n",
       "rn\">Bosnia and Herzegovina     1\n",
       "Name: Home Team Name, Length: 78, dtype: int64"
      ]
     },
     "execution_count": 22,
     "metadata": {},
     "output_type": "execute_result"
    }
   ],
   "source": [
    "# check the value before changing a character\n",
    "matches['Home Team Name'].value_counts()"
   ]
  },
  {
   "cell_type": "code",
   "execution_count": 23,
   "metadata": {},
   "outputs": [],
   "source": [
    "# lastly rename 'Germany FR' to 'Germany'\n",
    "matches['Home Team Name'] = matches['Home Team Name'].str.replace('Germany FR', 'Germany')\n",
    "matches['Away Team Name'] = matches['Away Team Name'].str.replace('Germany FR', 'Germany')"
   ]
  },
  {
   "cell_type": "code",
   "execution_count": 24,
   "metadata": {},
   "outputs": [
    {
     "data": {
      "text/plain": [
       "Brazil                        78\n",
       "Germany                       74\n",
       "Italy                         57\n",
       "Argentina                     52\n",
       "England                       35\n",
       "                              ..\n",
       "Wales                          1\n",
       "Norway                         1\n",
       "rn\">United Arab Emirates       1\n",
       "Haiti                          1\n",
       "rn\">Bosnia and Herzegovina     1\n",
       "Name: Home Team Name, Length: 77, dtype: int64"
      ]
     },
     "execution_count": 24,
     "metadata": {},
     "output_type": "execute_result"
    }
   ],
   "source": [
    "# let's confirm again with value counts\n",
    "matches['Home Team Name'].value_counts()"
   ]
  },
  {
   "cell_type": "markdown",
   "metadata": {},
   "source": [
    "### Wrangling for the Players dataset"
   ]
  },
  {
   "cell_type": "code",
   "execution_count": 25,
   "metadata": {},
   "outputs": [
    {
     "name": "stdout",
     "output_type": "stream",
     "text": [
      "(37784, 9)\n"
     ]
    },
    {
     "data": {
      "text/html": [
       "<div>\n",
       "<style scoped>\n",
       "    .dataframe tbody tr th:only-of-type {\n",
       "        vertical-align: middle;\n",
       "    }\n",
       "\n",
       "    .dataframe tbody tr th {\n",
       "        vertical-align: top;\n",
       "    }\n",
       "\n",
       "    .dataframe thead th {\n",
       "        text-align: right;\n",
       "    }\n",
       "</style>\n",
       "<table border=\"1\" class=\"dataframe\">\n",
       "  <thead>\n",
       "    <tr style=\"text-align: right;\">\n",
       "      <th></th>\n",
       "      <th>RoundID</th>\n",
       "      <th>MatchID</th>\n",
       "      <th>Team Initials</th>\n",
       "      <th>Coach Name</th>\n",
       "      <th>Line-up</th>\n",
       "      <th>Shirt Number</th>\n",
       "      <th>Player Name</th>\n",
       "      <th>Position</th>\n",
       "      <th>Event</th>\n",
       "    </tr>\n",
       "  </thead>\n",
       "  <tbody>\n",
       "    <tr>\n",
       "      <th>0</th>\n",
       "      <td>201</td>\n",
       "      <td>1096</td>\n",
       "      <td>FRA</td>\n",
       "      <td>CAUDRON Raoul (FRA)</td>\n",
       "      <td>S</td>\n",
       "      <td>0</td>\n",
       "      <td>Alex THEPOT</td>\n",
       "      <td>GK</td>\n",
       "      <td>NaN</td>\n",
       "    </tr>\n",
       "    <tr>\n",
       "      <th>1</th>\n",
       "      <td>201</td>\n",
       "      <td>1096</td>\n",
       "      <td>MEX</td>\n",
       "      <td>LUQUE Juan (MEX)</td>\n",
       "      <td>S</td>\n",
       "      <td>0</td>\n",
       "      <td>Oscar BONFIGLIO</td>\n",
       "      <td>GK</td>\n",
       "      <td>NaN</td>\n",
       "    </tr>\n",
       "    <tr>\n",
       "      <th>2</th>\n",
       "      <td>201</td>\n",
       "      <td>1096</td>\n",
       "      <td>FRA</td>\n",
       "      <td>CAUDRON Raoul (FRA)</td>\n",
       "      <td>S</td>\n",
       "      <td>0</td>\n",
       "      <td>Marcel LANGILLER</td>\n",
       "      <td>NaN</td>\n",
       "      <td>G40'</td>\n",
       "    </tr>\n",
       "    <tr>\n",
       "      <th>3</th>\n",
       "      <td>201</td>\n",
       "      <td>1096</td>\n",
       "      <td>MEX</td>\n",
       "      <td>LUQUE Juan (MEX)</td>\n",
       "      <td>S</td>\n",
       "      <td>0</td>\n",
       "      <td>Juan CARRENO</td>\n",
       "      <td>NaN</td>\n",
       "      <td>G70'</td>\n",
       "    </tr>\n",
       "    <tr>\n",
       "      <th>4</th>\n",
       "      <td>201</td>\n",
       "      <td>1096</td>\n",
       "      <td>FRA</td>\n",
       "      <td>CAUDRON Raoul (FRA)</td>\n",
       "      <td>S</td>\n",
       "      <td>0</td>\n",
       "      <td>Ernest LIBERATI</td>\n",
       "      <td>NaN</td>\n",
       "      <td>NaN</td>\n",
       "    </tr>\n",
       "  </tbody>\n",
       "</table>\n",
       "</div>"
      ],
      "text/plain": [
       "   RoundID  MatchID Team Initials           Coach Name Line-up  Shirt Number  \\\n",
       "0      201     1096           FRA  CAUDRON Raoul (FRA)       S             0   \n",
       "1      201     1096           MEX     LUQUE Juan (MEX)       S             0   \n",
       "2      201     1096           FRA  CAUDRON Raoul (FRA)       S             0   \n",
       "3      201     1096           MEX     LUQUE Juan (MEX)       S             0   \n",
       "4      201     1096           FRA  CAUDRON Raoul (FRA)       S             0   \n",
       "\n",
       "        Player Name Position Event  \n",
       "0       Alex THEPOT       GK   NaN  \n",
       "1   Oscar BONFIGLIO       GK   NaN  \n",
       "2  Marcel LANGILLER      NaN  G40'  \n",
       "3      Juan CARRENO      NaN  G70'  \n",
       "4   Ernest LIBERATI      NaN   NaN  "
      ]
     },
     "execution_count": 25,
     "metadata": {},
     "output_type": "execute_result"
    }
   ],
   "source": [
    "# let's have an overview of the players dataset\n",
    "# 2. World Cup Players\n",
    "print(players.shape)\n",
    "players.head()"
   ]
  },
  {
   "cell_type": "code",
   "execution_count": 26,
   "metadata": {},
   "outputs": [
    {
     "name": "stdout",
     "output_type": "stream",
     "text": [
      "(37784, 9)\n",
      "<class 'pandas.core.frame.DataFrame'>\n",
      "RangeIndex: 37784 entries, 0 to 37783\n",
      "Data columns (total 9 columns):\n",
      " #   Column         Non-Null Count  Dtype \n",
      "---  ------         --------------  ----- \n",
      " 0   RoundID        37784 non-null  int64 \n",
      " 1   MatchID        37784 non-null  int64 \n",
      " 2   Team Initials  37784 non-null  object\n",
      " 3   Coach Name     37784 non-null  object\n",
      " 4   Line-up        37784 non-null  object\n",
      " 5   Shirt Number   37784 non-null  int64 \n",
      " 6   Player Name    37784 non-null  object\n",
      " 7   Position       4143 non-null   object\n",
      " 8   Event          9069 non-null   object\n",
      "dtypes: int64(3), object(6)\n",
      "memory usage: 2.6+ MB\n"
     ]
    }
   ],
   "source": [
    "print(players.shape)\n",
    "players.info()"
   ]
  },
  {
   "cell_type": "code",
   "execution_count": 27,
   "metadata": {},
   "outputs": [
    {
     "data": {
      "text/plain": [
       "736"
      ]
     },
     "execution_count": 27,
     "metadata": {},
     "output_type": "execute_result"
    }
   ],
   "source": [
    "# check for duplicates in players\n",
    "players.duplicated().sum()"
   ]
  },
  {
   "cell_type": "code",
   "execution_count": 28,
   "metadata": {},
   "outputs": [],
   "source": [
    "# Drop the duplicates\n",
    "players.drop_duplicates(inplace=True)"
   ]
  },
  {
   "cell_type": "code",
   "execution_count": 29,
   "metadata": {},
   "outputs": [
    {
     "data": {
      "text/plain": [
       "0"
      ]
     },
     "execution_count": 29,
     "metadata": {},
     "output_type": "execute_result"
    }
   ],
   "source": [
    "# confirm the drops\n",
    "players.duplicated().sum()"
   ]
  },
  {
   "cell_type": "code",
   "execution_count": 30,
   "metadata": {},
   "outputs": [
    {
     "data": {
      "text/plain": [
       "RoundID              0\n",
       "MatchID              0\n",
       "Team Initials        0\n",
       "Coach Name           0\n",
       "Line-up              0\n",
       "Shirt Number         0\n",
       "Player Name          0\n",
       "Position         33030\n",
       "Event            28225\n",
       "dtype: int64"
      ]
     },
     "execution_count": 30,
     "metadata": {},
     "output_type": "execute_result"
    }
   ],
   "source": [
    "# check for missing values\n",
    "players.isna().sum()"
   ]
  },
  {
   "cell_type": "code",
   "execution_count": 31,
   "metadata": {},
   "outputs": [],
   "source": [
    "# instead of filling-up or removing the missing values, we can just drop the 2 columns ('Position', 'Event')\n",
    "drop_columns = ['Position', 'Event']\n",
    "players = players.drop(drop_columns, axis = 1)"
   ]
  },
  {
   "cell_type": "code",
   "execution_count": 32,
   "metadata": {},
   "outputs": [
    {
     "data": {
      "text/plain": [
       "RoundID          0\n",
       "MatchID          0\n",
       "Team Initials    0\n",
       "Coach Name       0\n",
       "Line-up          0\n",
       "Shirt Number     0\n",
       "Player Name      0\n",
       "dtype: int64"
      ]
     },
     "execution_count": 32,
     "metadata": {},
     "output_type": "execute_result"
    }
   ],
   "source": [
    "# check again to confirm the missing value\n",
    "players.isna().sum()"
   ]
  },
  {
   "cell_type": "code",
   "execution_count": 33,
   "metadata": {},
   "outputs": [
    {
     "name": "stdout",
     "output_type": "stream",
     "text": [
      "<class 'pandas.core.frame.DataFrame'>\n",
      "Int64Index: 37048 entries, 0 to 37047\n",
      "Data columns (total 7 columns):\n",
      " #   Column         Non-Null Count  Dtype \n",
      "---  ------         --------------  ----- \n",
      " 0   RoundID        37048 non-null  int64 \n",
      " 1   MatchID        37048 non-null  int64 \n",
      " 2   Team Initials  37048 non-null  object\n",
      " 3   Coach Name     37048 non-null  object\n",
      " 4   Line-up        37048 non-null  object\n",
      " 5   Shirt Number   37048 non-null  int64 \n",
      " 6   Player Name    37048 non-null  object\n",
      "dtypes: int64(3), object(4)\n",
      "memory usage: 2.3+ MB\n"
     ]
    }
   ],
   "source": [
    "players.info()"
   ]
  },
  {
   "cell_type": "markdown",
   "metadata": {},
   "source": [
    "### Wrangling for the Preview dataset"
   ]
  },
  {
   "cell_type": "code",
   "execution_count": 34,
   "metadata": {},
   "outputs": [
    {
     "name": "stdout",
     "output_type": "stream",
     "text": [
      "(20, 10)\n"
     ]
    },
    {
     "data": {
      "text/html": [
       "<div>\n",
       "<style scoped>\n",
       "    .dataframe tbody tr th:only-of-type {\n",
       "        vertical-align: middle;\n",
       "    }\n",
       "\n",
       "    .dataframe tbody tr th {\n",
       "        vertical-align: top;\n",
       "    }\n",
       "\n",
       "    .dataframe thead th {\n",
       "        text-align: right;\n",
       "    }\n",
       "</style>\n",
       "<table border=\"1\" class=\"dataframe\">\n",
       "  <thead>\n",
       "    <tr style=\"text-align: right;\">\n",
       "      <th></th>\n",
       "      <th>Year</th>\n",
       "      <th>Country</th>\n",
       "      <th>Winner</th>\n",
       "      <th>Runners-Up</th>\n",
       "      <th>Third</th>\n",
       "      <th>Fourth</th>\n",
       "      <th>GoalsScored</th>\n",
       "      <th>QualifiedTeams</th>\n",
       "      <th>MatchesPlayed</th>\n",
       "      <th>Attendance</th>\n",
       "    </tr>\n",
       "  </thead>\n",
       "  <tbody>\n",
       "    <tr>\n",
       "      <th>0</th>\n",
       "      <td>1930</td>\n",
       "      <td>Uruguay</td>\n",
       "      <td>Uruguay</td>\n",
       "      <td>Argentina</td>\n",
       "      <td>USA</td>\n",
       "      <td>Yugoslavia</td>\n",
       "      <td>70</td>\n",
       "      <td>13</td>\n",
       "      <td>18</td>\n",
       "      <td>590.549</td>\n",
       "    </tr>\n",
       "    <tr>\n",
       "      <th>1</th>\n",
       "      <td>1934</td>\n",
       "      <td>Italy</td>\n",
       "      <td>Italy</td>\n",
       "      <td>Czechoslovakia</td>\n",
       "      <td>Germany</td>\n",
       "      <td>Austria</td>\n",
       "      <td>70</td>\n",
       "      <td>16</td>\n",
       "      <td>17</td>\n",
       "      <td>363.000</td>\n",
       "    </tr>\n",
       "    <tr>\n",
       "      <th>2</th>\n",
       "      <td>1938</td>\n",
       "      <td>France</td>\n",
       "      <td>Italy</td>\n",
       "      <td>Hungary</td>\n",
       "      <td>Brazil</td>\n",
       "      <td>Sweden</td>\n",
       "      <td>84</td>\n",
       "      <td>15</td>\n",
       "      <td>18</td>\n",
       "      <td>375.700</td>\n",
       "    </tr>\n",
       "    <tr>\n",
       "      <th>3</th>\n",
       "      <td>1950</td>\n",
       "      <td>Brazil</td>\n",
       "      <td>Uruguay</td>\n",
       "      <td>Brazil</td>\n",
       "      <td>Sweden</td>\n",
       "      <td>Spain</td>\n",
       "      <td>88</td>\n",
       "      <td>13</td>\n",
       "      <td>22</td>\n",
       "      <td>1.045.246</td>\n",
       "    </tr>\n",
       "    <tr>\n",
       "      <th>4</th>\n",
       "      <td>1954</td>\n",
       "      <td>Switzerland</td>\n",
       "      <td>Germany FR</td>\n",
       "      <td>Hungary</td>\n",
       "      <td>Austria</td>\n",
       "      <td>Uruguay</td>\n",
       "      <td>140</td>\n",
       "      <td>16</td>\n",
       "      <td>26</td>\n",
       "      <td>768.607</td>\n",
       "    </tr>\n",
       "  </tbody>\n",
       "</table>\n",
       "</div>"
      ],
      "text/plain": [
       "   Year      Country      Winner      Runners-Up    Third      Fourth  \\\n",
       "0  1930      Uruguay     Uruguay       Argentina      USA  Yugoslavia   \n",
       "1  1934        Italy       Italy  Czechoslovakia  Germany     Austria   \n",
       "2  1938       France       Italy         Hungary   Brazil      Sweden   \n",
       "3  1950       Brazil     Uruguay          Brazil   Sweden       Spain   \n",
       "4  1954  Switzerland  Germany FR         Hungary  Austria     Uruguay   \n",
       "\n",
       "   GoalsScored  QualifiedTeams  MatchesPlayed Attendance  \n",
       "0           70              13             18    590.549  \n",
       "1           70              16             17    363.000  \n",
       "2           84              15             18    375.700  \n",
       "3           88              13             22  1.045.246  \n",
       "4          140              16             26    768.607  "
      ]
     },
     "execution_count": 34,
     "metadata": {},
     "output_type": "execute_result"
    }
   ],
   "source": [
    "# let's have an overview of the dataset\n",
    "# 3. World Cup Preview\n",
    "print(preview.shape)\n",
    "preview.head()"
   ]
  },
  {
   "cell_type": "code",
   "execution_count": 35,
   "metadata": {},
   "outputs": [
    {
     "name": "stdout",
     "output_type": "stream",
     "text": [
      "<class 'pandas.core.frame.DataFrame'>\n",
      "RangeIndex: 20 entries, 0 to 19\n",
      "Data columns (total 10 columns):\n",
      " #   Column          Non-Null Count  Dtype \n",
      "---  ------          --------------  ----- \n",
      " 0   Year            20 non-null     int64 \n",
      " 1   Country         20 non-null     object\n",
      " 2   Winner          20 non-null     object\n",
      " 3   Runners-Up      20 non-null     object\n",
      " 4   Third           20 non-null     object\n",
      " 5   Fourth          20 non-null     object\n",
      " 6   GoalsScored     20 non-null     int64 \n",
      " 7   QualifiedTeams  20 non-null     int64 \n",
      " 8   MatchesPlayed   20 non-null     int64 \n",
      " 9   Attendance      20 non-null     object\n",
      "dtypes: int64(4), object(6)\n",
      "memory usage: 1.7+ KB\n"
     ]
    }
   ],
   "source": [
    "preview.info()"
   ]
  },
  {
   "cell_type": "code",
   "execution_count": 36,
   "metadata": {},
   "outputs": [
    {
     "name": "stderr",
     "output_type": "stream",
     "text": [
      "<ipython-input-36-28a86171af0e>:2: FutureWarning: The default value of regex will change from True to False in a future version. In addition, single character regular expressions will *not* be treated as literal strings when regex=True.\n",
      "  preview['Attendance'] = preview['Attendance'].str.replace('.', '')\n"
     ]
    }
   ],
   "source": [
    "# replace '.' with nothing for proper convertion\n",
    "preview['Attendance'] = preview['Attendance'].str.replace('.', '')"
   ]
  },
  {
   "cell_type": "code",
   "execution_count": 37,
   "metadata": {},
   "outputs": [
    {
     "data": {
      "text/html": [
       "<div>\n",
       "<style scoped>\n",
       "    .dataframe tbody tr th:only-of-type {\n",
       "        vertical-align: middle;\n",
       "    }\n",
       "\n",
       "    .dataframe tbody tr th {\n",
       "        vertical-align: top;\n",
       "    }\n",
       "\n",
       "    .dataframe thead th {\n",
       "        text-align: right;\n",
       "    }\n",
       "</style>\n",
       "<table border=\"1\" class=\"dataframe\">\n",
       "  <thead>\n",
       "    <tr style=\"text-align: right;\">\n",
       "      <th></th>\n",
       "      <th>Attendance</th>\n",
       "    </tr>\n",
       "  </thead>\n",
       "  <tbody>\n",
       "    <tr>\n",
       "      <th>0</th>\n",
       "      <td>590549</td>\n",
       "    </tr>\n",
       "    <tr>\n",
       "      <th>1</th>\n",
       "      <td>363000</td>\n",
       "    </tr>\n",
       "    <tr>\n",
       "      <th>2</th>\n",
       "      <td>375700</td>\n",
       "    </tr>\n",
       "    <tr>\n",
       "      <th>3</th>\n",
       "      <td>1045246</td>\n",
       "    </tr>\n",
       "    <tr>\n",
       "      <th>4</th>\n",
       "      <td>768607</td>\n",
       "    </tr>\n",
       "    <tr>\n",
       "      <th>5</th>\n",
       "      <td>819810</td>\n",
       "    </tr>\n",
       "    <tr>\n",
       "      <th>6</th>\n",
       "      <td>893172</td>\n",
       "    </tr>\n",
       "    <tr>\n",
       "      <th>7</th>\n",
       "      <td>1563135</td>\n",
       "    </tr>\n",
       "    <tr>\n",
       "      <th>8</th>\n",
       "      <td>1603975</td>\n",
       "    </tr>\n",
       "    <tr>\n",
       "      <th>9</th>\n",
       "      <td>1865753</td>\n",
       "    </tr>\n",
       "    <tr>\n",
       "      <th>10</th>\n",
       "      <td>1545791</td>\n",
       "    </tr>\n",
       "    <tr>\n",
       "      <th>11</th>\n",
       "      <td>2109723</td>\n",
       "    </tr>\n",
       "    <tr>\n",
       "      <th>12</th>\n",
       "      <td>2394031</td>\n",
       "    </tr>\n",
       "    <tr>\n",
       "      <th>13</th>\n",
       "      <td>2516215</td>\n",
       "    </tr>\n",
       "    <tr>\n",
       "      <th>14</th>\n",
       "      <td>3587538</td>\n",
       "    </tr>\n",
       "    <tr>\n",
       "      <th>15</th>\n",
       "      <td>2785100</td>\n",
       "    </tr>\n",
       "    <tr>\n",
       "      <th>16</th>\n",
       "      <td>2705197</td>\n",
       "    </tr>\n",
       "    <tr>\n",
       "      <th>17</th>\n",
       "      <td>3359439</td>\n",
       "    </tr>\n",
       "    <tr>\n",
       "      <th>18</th>\n",
       "      <td>3178856</td>\n",
       "    </tr>\n",
       "    <tr>\n",
       "      <th>19</th>\n",
       "      <td>3386810</td>\n",
       "    </tr>\n",
       "  </tbody>\n",
       "</table>\n",
       "</div>"
      ],
      "text/plain": [
       "   Attendance\n",
       "0      590549\n",
       "1      363000\n",
       "2      375700\n",
       "3     1045246\n",
       "4      768607\n",
       "5      819810\n",
       "6      893172\n",
       "7     1563135\n",
       "8     1603975\n",
       "9     1865753\n",
       "10    1545791\n",
       "11    2109723\n",
       "12    2394031\n",
       "13    2516215\n",
       "14    3587538\n",
       "15    2785100\n",
       "16    2705197\n",
       "17    3359439\n",
       "18    3178856\n",
       "19    3386810"
      ]
     },
     "execution_count": 37,
     "metadata": {},
     "output_type": "execute_result"
    }
   ],
   "source": [
    "preview[['Attendance']]"
   ]
  },
  {
   "cell_type": "code",
   "execution_count": 38,
   "metadata": {},
   "outputs": [],
   "source": [
    "# let convert 'Attendance' to float now\n",
    "preview['Attendance'] = preview['Attendance'].astype('int64')"
   ]
  },
  {
   "cell_type": "code",
   "execution_count": 39,
   "metadata": {},
   "outputs": [
    {
     "name": "stdout",
     "output_type": "stream",
     "text": [
      "<class 'pandas.core.frame.DataFrame'>\n",
      "RangeIndex: 20 entries, 0 to 19\n",
      "Data columns (total 10 columns):\n",
      " #   Column          Non-Null Count  Dtype \n",
      "---  ------          --------------  ----- \n",
      " 0   Year            20 non-null     int64 \n",
      " 1   Country         20 non-null     object\n",
      " 2   Winner          20 non-null     object\n",
      " 3   Runners-Up      20 non-null     object\n",
      " 4   Third           20 non-null     object\n",
      " 5   Fourth          20 non-null     object\n",
      " 6   GoalsScored     20 non-null     int64 \n",
      " 7   QualifiedTeams  20 non-null     int64 \n",
      " 8   MatchesPlayed   20 non-null     int64 \n",
      " 9   Attendance      20 non-null     int64 \n",
      "dtypes: int64(5), object(5)\n",
      "memory usage: 1.7+ KB\n"
     ]
    }
   ],
   "source": [
    "# use info to confirm\n",
    "preview.info()"
   ]
  },
  {
   "cell_type": "markdown",
   "metadata": {},
   "source": [
    "Check for duplicates and missing values"
   ]
  },
  {
   "cell_type": "code",
   "execution_count": 40,
   "metadata": {},
   "outputs": [
    {
     "data": {
      "text/plain": [
       "0"
      ]
     },
     "execution_count": 40,
     "metadata": {},
     "output_type": "execute_result"
    }
   ],
   "source": [
    "# check for duplicates in preview\n",
    "preview.duplicated().sum()"
   ]
  },
  {
   "cell_type": "code",
   "execution_count": 41,
   "metadata": {},
   "outputs": [
    {
     "data": {
      "text/plain": [
       "Year              0\n",
       "Country           0\n",
       "Winner            0\n",
       "Runners-Up        0\n",
       "Third             0\n",
       "Fourth            0\n",
       "GoalsScored       0\n",
       "QualifiedTeams    0\n",
       "MatchesPlayed     0\n",
       "Attendance        0\n",
       "dtype: int64"
      ]
     },
     "execution_count": 41,
     "metadata": {},
     "output_type": "execute_result"
    }
   ],
   "source": [
    "# check for missing value for preview\n",
    "preview.isna().sum()"
   ]
  },
  {
   "cell_type": "code",
   "execution_count": 42,
   "metadata": {},
   "outputs": [
    {
     "data": {
      "text/html": [
       "<div>\n",
       "<style scoped>\n",
       "    .dataframe tbody tr th:only-of-type {\n",
       "        vertical-align: middle;\n",
       "    }\n",
       "\n",
       "    .dataframe tbody tr th {\n",
       "        vertical-align: top;\n",
       "    }\n",
       "\n",
       "    .dataframe thead th {\n",
       "        text-align: right;\n",
       "    }\n",
       "</style>\n",
       "<table border=\"1\" class=\"dataframe\">\n",
       "  <thead>\n",
       "    <tr style=\"text-align: right;\">\n",
       "      <th></th>\n",
       "      <th>Year</th>\n",
       "      <th>GoalsScored</th>\n",
       "      <th>QualifiedTeams</th>\n",
       "      <th>MatchesPlayed</th>\n",
       "      <th>Attendance</th>\n",
       "    </tr>\n",
       "  </thead>\n",
       "  <tbody>\n",
       "    <tr>\n",
       "      <th>count</th>\n",
       "      <td>20.000000</td>\n",
       "      <td>20.000000</td>\n",
       "      <td>20.000000</td>\n",
       "      <td>20.000000</td>\n",
       "      <td>2.000000e+01</td>\n",
       "    </tr>\n",
       "    <tr>\n",
       "      <th>mean</th>\n",
       "      <td>1974.800000</td>\n",
       "      <td>118.950000</td>\n",
       "      <td>21.250000</td>\n",
       "      <td>41.800000</td>\n",
       "      <td>1.872882e+06</td>\n",
       "    </tr>\n",
       "    <tr>\n",
       "      <th>std</th>\n",
       "      <td>25.582889</td>\n",
       "      <td>32.972836</td>\n",
       "      <td>7.268352</td>\n",
       "      <td>17.218717</td>\n",
       "      <td>1.071842e+06</td>\n",
       "    </tr>\n",
       "    <tr>\n",
       "      <th>min</th>\n",
       "      <td>1930.000000</td>\n",
       "      <td>70.000000</td>\n",
       "      <td>13.000000</td>\n",
       "      <td>17.000000</td>\n",
       "      <td>3.630000e+05</td>\n",
       "    </tr>\n",
       "    <tr>\n",
       "      <th>25%</th>\n",
       "      <td>1957.000000</td>\n",
       "      <td>89.000000</td>\n",
       "      <td>16.000000</td>\n",
       "      <td>30.500000</td>\n",
       "      <td>8.748315e+05</td>\n",
       "    </tr>\n",
       "    <tr>\n",
       "      <th>50%</th>\n",
       "      <td>1976.000000</td>\n",
       "      <td>120.500000</td>\n",
       "      <td>16.000000</td>\n",
       "      <td>38.000000</td>\n",
       "      <td>1.734864e+06</td>\n",
       "    </tr>\n",
       "    <tr>\n",
       "      <th>75%</th>\n",
       "      <td>1995.000000</td>\n",
       "      <td>145.250000</td>\n",
       "      <td>26.000000</td>\n",
       "      <td>55.000000</td>\n",
       "      <td>2.725173e+06</td>\n",
       "    </tr>\n",
       "    <tr>\n",
       "      <th>max</th>\n",
       "      <td>2014.000000</td>\n",
       "      <td>171.000000</td>\n",
       "      <td>32.000000</td>\n",
       "      <td>64.000000</td>\n",
       "      <td>3.587538e+06</td>\n",
       "    </tr>\n",
       "  </tbody>\n",
       "</table>\n",
       "</div>"
      ],
      "text/plain": [
       "              Year  GoalsScored  QualifiedTeams  MatchesPlayed    Attendance\n",
       "count    20.000000    20.000000       20.000000      20.000000  2.000000e+01\n",
       "mean   1974.800000   118.950000       21.250000      41.800000  1.872882e+06\n",
       "std      25.582889    32.972836        7.268352      17.218717  1.071842e+06\n",
       "min    1930.000000    70.000000       13.000000      17.000000  3.630000e+05\n",
       "25%    1957.000000    89.000000       16.000000      30.500000  8.748315e+05\n",
       "50%    1976.000000   120.500000       16.000000      38.000000  1.734864e+06\n",
       "75%    1995.000000   145.250000       26.000000      55.000000  2.725173e+06\n",
       "max    2014.000000   171.000000       32.000000      64.000000  3.587538e+06"
      ]
     },
     "execution_count": 42,
     "metadata": {},
     "output_type": "execute_result"
    }
   ],
   "source": [
    "# descriptive stattistics\n",
    "preview.describe()"
   ]
  },
  {
   "cell_type": "code",
   "execution_count": 43,
   "metadata": {},
   "outputs": [
    {
     "data": {
      "text/plain": [
       "Brazil        5\n",
       "Italy         4\n",
       "Germany FR    3\n",
       "Uruguay       2\n",
       "Argentina     2\n",
       "England       1\n",
       "France        1\n",
       "Spain         1\n",
       "Germany       1\n",
       "Name: Winner, dtype: int64"
      ]
     },
     "execution_count": 43,
     "metadata": {},
     "output_type": "execute_result"
    }
   ],
   "source": [
    "# value counts before changing character\n",
    "preview['Winner'].value_counts()"
   ]
  },
  {
   "cell_type": "code",
   "execution_count": 44,
   "metadata": {},
   "outputs": [],
   "source": [
    "# change 'Germany FR' to just 'Germany'\n",
    "preview['Winner'] = preview['Winner'].str.replace('Germany FR', 'Germany')\n",
    "preview['Runners-Up'] = preview['Runners-Up'].str.replace('Germany FR', 'Germany')\n",
    "preview['Third'] = preview['Third'].str.replace('Germany FR', 'Germany')\n",
    "preview['Fourth'] = preview['Fourth'].str.replace('Germany FR', 'Germany')"
   ]
  },
  {
   "cell_type": "code",
   "execution_count": 45,
   "metadata": {},
   "outputs": [
    {
     "data": {
      "text/plain": [
       "Brazil       5\n",
       "Italy        4\n",
       "Germany      4\n",
       "Uruguay      2\n",
       "Argentina    2\n",
       "England      1\n",
       "France       1\n",
       "Spain        1\n",
       "Name: Winner, dtype: int64"
      ]
     },
     "execution_count": 45,
     "metadata": {},
     "output_type": "execute_result"
    }
   ],
   "source": [
    "# let's confirm the change\n",
    "preview['Winner'].value_counts()"
   ]
  },
  {
   "cell_type": "markdown",
   "metadata": {},
   "source": [
    "Now that all wrangling is done. Let's begin the visualization"
   ]
  },
  {
   "cell_type": "markdown",
   "metadata": {},
   "source": [
    "### What is the structure of your dataset?\n",
    "\n",
    "There 3 datasets of world cup;\n",
    ">1. Matches: This contains 835 features after it has been wrangled, having 17 features such as Stage, Stadium, City, Home Team Name, Away Team Name, Home Goals and Away Goals, Half-time Goals, Attendance, Referee, etc.\n",
    ">2. Players: This contains 37,048 player names after wrangling, having 9 features among which is player name, Position, Coach Name, Line up, Shirt Number, etc.\n",
    ">3. Preview. This is summary of all the tournament over the years. It contains just 20 observations and 10 columns. Which entails, Year, Host Country, Winner, Runner-Up, Third, Fourth, Goals Scored, Matches Played, Attendance\n",
    "\n",
    "### What is/are the main feature(s) of interest in your dataset?\n",
    "\n",
    "> Since its 3 data, there would be focus on different features. However, I am most interested in seeing which country (team) have had the best performance since the inception of World cup.\n",
    "\n",
    "### What features in the dataset do you think will help support your investigation into your feature(s) of interest?\n",
    "\n",
    "> I expect goals, matches played, winner, runners-up and attendance are some of the features that would be very important in my analysis. All these should be able to tell which countries have performed better. "
   ]
  },
  {
   "cell_type": "markdown",
   "metadata": {},
   "source": [
    "## Univariate Exploration\n"
   ]
  },
  {
   "cell_type": "markdown",
   "metadata": {},
   "source": [
    "There are a lots of questions to be answered to have a proper and detailed analysis of the world cup.\n",
    "\n",
    "Some of the questions to be considered are below. However, more question could be derived as I proceed\n",
    "\n",
    "- Which city has hosted the most matches?\n",
    "- Which stadium has hosted the most matches?\n",
    "- Player with highest appearance\n",
    "- Country with highest number of wins\n",
    "- Refree with most officiation at world cup most matches\n",
    "- Assistant 1 and 2 \n",
    "- Countries that have hosted the most\n"
   ]
  },
  {
   "cell_type": "markdown",
   "metadata": {},
   "source": [
    "### Top 10 City  with the most maches hosted."
   ]
  },
  {
   "cell_type": "code",
   "execution_count": 46,
   "metadata": {},
   "outputs": [],
   "source": [
    "# create a function that would be used to check the univariate variable in matches dataset\n",
    "def matches_visuals(match, variables):\n",
    "    var = match[variables].value_counts()[:10]\n",
    "    base_color = sb.color_palette()[3]\n",
    "    sb.barplot(var.values, var.index, color=base_color)\n",
    "    plt.suptitle('Top 10 {} with the Highest Number of Matches'.format(variables))\n",
    "    plt.xlabel('Counts')\n",
    "    plt.ylabel('{} Names'.format(variables))\n",
    "    plt.show();"
   ]
  },
  {
   "cell_type": "code",
   "execution_count": 47,
   "metadata": {},
   "outputs": [
    {
     "name": "stderr",
     "output_type": "stream",
     "text": [
      "C:\\Users\\dell\\anaconda3\\lib\\site-packages\\seaborn\\_decorators.py:36: FutureWarning: Pass the following variables as keyword args: x, y. From version 0.12, the only valid positional argument will be `data`, and passing other arguments without an explicit keyword will result in an error or misinterpretation.\n",
      "  warnings.warn(\n"
     ]
    },
    {
     "data": {
      "image/png": "[encoded data removed]",
      "text/plain": [
       "<Figure size 432x288 with 1 Axes>"
      ]
     },
     "metadata": {
      "needs_background": "light"
     },
     "output_type": "display_data"
    }
   ],
   "source": [
    "matches_visuals(matches, 'City')"
   ]
  },
  {
   "cell_type": "markdown",
   "metadata": {},
   "source": [
    "The top 10 cities that have hosted the most matches are, Mexico City in Mexico, Montevideo in Uruguay, Guadalajara also in Mexico, Johannesburg in South Africa and Rio De Janeiro in Brazil, Buenos Aires in Argentina, Sao Paulo in Brazil, Munich in Germany, Leon can not be assigned, because its a city in different countries  and Gelsenkirchen in Germany also.\n",
    "\n",
    "*Note*: There is also a Leon in Spain, but how do we confirm the Leon is that of Mexico or Spain or other countries, let's see if we can find out with other variables\n",
    "\n",
    "Let's check if the top cities are as a result of hosting the tournament.\n",
    "\n",
    "### Countries that have hosted World Cup the most"
   ]
  },
  {
   "cell_type": "code",
   "execution_count": 48,
   "metadata": {},
   "outputs": [],
   "source": [
    "# create another function that would be used to check the univariate variable in preview dataset\n",
    "def preview_visuals(data, variables):\n",
    "    var = data[variables].value_counts()\n",
    "    plt.figure(figsize=(10, 6))\n",
    "    base_color = sb.color_palette()[8]\n",
    "    sb.barplot(var.values, var.index, color=base_color)\n",
    "    plt.suptitle('The Top {}'.format(variables))\n",
    "    plt.xlabel('Counts')\n",
    "    plt.ylabel('{} Names'.format(variables))\n",
    "    plt.show();"
   ]
  },
  {
   "cell_type": "code",
   "execution_count": 49,
   "metadata": {},
   "outputs": [
    {
     "name": "stderr",
     "output_type": "stream",
     "text": [
      "C:\\Users\\dell\\anaconda3\\lib\\site-packages\\seaborn\\_decorators.py:36: FutureWarning: Pass the following variables as keyword args: x, y. From version 0.12, the only valid positional argument will be `data`, and passing other arguments without an explicit keyword will result in an error or misinterpretation.\n",
      "  warnings.warn(\n"
     ]
    },
    {
     "data": {
      "image/png": "[encoded data removed]",
      "text/plain": [
       "<Figure size 720x432 with 1 Axes>"
      ]
     },
     "metadata": {
      "needs_background": "light"
     },
     "output_type": "display_data"
    }
   ],
   "source": [
    "preview_visuals(preview, 'Country')"
   ]
  },
  {
   "cell_type": "markdown",
   "metadata": {},
   "source": [
    "Italy, France, Brazil, Mexico, Germany have all hosted twice. While Uruguay, Switzerland, Sweden, Chile, England, Argentina, Spain, USA, Korea/Japan and South Africa (the only Africa country to have hosted the tournament) have all hosted once.\n",
    "\n",
    "There was need to buttress further to get the reasons behind the cities with the highest matches hosted. And this lead to more questions;\n",
    ">1. Why is it that **Italy** and **France** that have also hosted 2 tournament like **Brazil**, **Mexico** and **Germany**, does not have a city that have hosted more matches? \n",
    ">2. *Montevideo* capital of **Uruguay** and *Johannesburg* city in **South Africa** with just 1 tournament have more matches hosted. Why?\n",
    "\n",
    "Possible answers are;\n",
    ">1. Are more matches played during that year the countries hosted that could have resulted in the cities hosting more matches?\n",
    ">2. Perhaps, matches have been spread across the cities of **Italy** and **France** that resulted in not having a city with more matches hosted.\n",
    "\n",
    "All these would be answered when we work on Bivariate Exploration\n"
   ]
  },
  {
   "cell_type": "markdown",
   "metadata": {},
   "source": [
    "We still need more questions "
   ]
  },
  {
   "cell_type": "markdown",
   "metadata": {},
   "source": [
    "Let's check the other univariate variables across the 3 datasets\n",
    "1. Matches dataset first\n",
    "2. Players dataset\n",
    "3. Preview dataset\n",
    "\n",
    "### Stadium that have hosted the most matches over the years"
   ]
  },
  {
   "cell_type": "code",
   "execution_count": 50,
   "metadata": {},
   "outputs": [
    {
     "name": "stderr",
     "output_type": "stream",
     "text": [
      "C:\\Users\\dell\\anaconda3\\lib\\site-packages\\seaborn\\_decorators.py:36: FutureWarning: Pass the following variables as keyword args: x, y. From version 0.12, the only valid positional argument will be `data`, and passing other arguments without an explicit keyword will result in an error or misinterpretation.\n",
      "  warnings.warn(\n"
     ]
    },
    {
     "data": {
      "image/png": "[encoded data removed]",
      "text/plain": [
       "<Figure size 432x288 with 1 Axes>"
      ]
     },
     "metadata": {
      "needs_background": "light"
     },
     "output_type": "display_data"
    }
   ],
   "source": [
    "matches_visuals(matches, 'Stadium')"
   ]
  },
  {
   "cell_type": "markdown",
   "metadata": {},
   "source": [
    "The top stadium with highest number of matches are; \n",
    "1. Estadio Azteca located in Mexico City, Mexico\n",
    "2. Olympiastadion located in Munich, Germany\n",
    "3. Jalisco located in Guadalajara, Mexico\n",
    "4. Nou Camp (unofficially known as that) - Estadio Leon in Leon, Mexico\n",
    "5. Estadion Centenario in Montevideo, Uruguay\n",
    "6. Nacional, this could not be associated to any country because, some countries has their stadium named Nacional (National in English)\n",
    "7. Stade de France located in Saint-Denis, France\n",
    "8. Stade du Parc Lescure (now known as Stade Chaban-Delmas) located in Bordeaux\n",
    "9. Parc des Princes located in Paris, france\n",
    "10. Wembley Stadium located London, England\n",
    "\n",
    "This shows top stadiums coincides with the top city plot above.\n",
    "   \n",
    "\n",
    "Will these top stadiums still remains based on attendance? This will also be confirmed at Bivariate Exploration section"
   ]
  },
  {
   "cell_type": "markdown",
   "metadata": {},
   "source": [
    "Let's check which Referees and it Assistant 1 and Assistant 2 have officiated the most in world cup history."
   ]
  },
  {
   "cell_type": "markdown",
   "metadata": {},
   "source": [
    "### Referee with the highest number of Officiation"
   ]
  },
  {
   "cell_type": "code",
   "execution_count": 51,
   "metadata": {},
   "outputs": [
    {
     "name": "stderr",
     "output_type": "stream",
     "text": [
      "C:\\Users\\dell\\anaconda3\\lib\\site-packages\\seaborn\\_decorators.py:36: FutureWarning: Pass the following variables as keyword args: x, y. From version 0.12, the only valid positional argument will be `data`, and passing other arguments without an explicit keyword will result in an error or misinterpretation.\n",
      "  warnings.warn(\n"
     ]
    },
    {
     "data": {
      "image/png": "[encoded data removed]",
      "text/plain": [
       "<Figure size 432x288 with 1 Axes>"
      ]
     },
     "metadata": {
      "needs_background": "light"
     },
     "output_type": "display_data"
    }
   ],
   "source": [
    "matches_visuals(matches, 'Referee')"
   ]
  },
  {
   "cell_type": "markdown",
   "metadata": {},
   "source": [
    "Ravshan IRMATOV from Uzbekistan holds the records (9), he has officiated the most, followed by LARRIONDA Jorge (Uruguay), QUINIOU Benito (France) and DE BLEECKERE Frank (Belgium) with same number of officated matches (8)."
   ]
  },
  {
   "cell_type": "markdown",
   "metadata": {},
   "source": [
    "### Referee Assistant (1 and 2)"
   ]
  },
  {
   "cell_type": "code",
   "execution_count": 52,
   "metadata": {},
   "outputs": [
    {
     "name": "stderr",
     "output_type": "stream",
     "text": [
      "C:\\Users\\dell\\anaconda3\\lib\\site-packages\\seaborn\\_decorators.py:36: FutureWarning: Pass the following variables as keyword args: x, y. From version 0.12, the only valid positional argument will be `data`, and passing other arguments without an explicit keyword will result in an error or misinterpretation.\n",
      "  warnings.warn(\n"
     ]
    },
    {
     "data": {
      "image/png": "[encoded data removed]",
      "text/plain": [
       "<Figure size 432x288 with 1 Axes>"
      ]
     },
     "metadata": {
      "needs_background": "light"
     },
     "output_type": "display_data"
    }
   ],
   "source": [
    "# Referee Assistant 1\n",
    "matches_visuals(matches, 'Assistant 1')"
   ]
  },
  {
   "cell_type": "code",
   "execution_count": 53,
   "metadata": {},
   "outputs": [
    {
     "name": "stderr",
     "output_type": "stream",
     "text": [
      "C:\\Users\\dell\\anaconda3\\lib\\site-packages\\seaborn\\_decorators.py:36: FutureWarning: Pass the following variables as keyword args: x, y. From version 0.12, the only valid positional argument will be `data`, and passing other arguments without an explicit keyword will result in an error or misinterpretation.\n",
      "  warnings.warn(\n"
     ]
    },
    {
     "data": {
      "image/png": "[encoded data removed]",
      "text/plain": [
       "<Figure size 432x288 with 1 Axes>"
      ]
     },
     "metadata": {
      "needs_background": "light"
     },
     "output_type": "display_data"
    }
   ],
   "source": [
    "# Referee Assistant 2\n",
    "matches_visuals(matches, 'Assistant 2')"
   ]
  },
  {
   "cell_type": "markdown",
   "metadata": {},
   "source": [
    "- Assistant 1; GONZALEZ ARCHUNDIA Alfonso (Mexico), HERMANS Peter (Belgium), VERGARA Hector (Canada) and BERANEK Alois(Austria) follows next with (7) each. \n",
    "- Assistant 2; KOCHKAROV Bakhadyr (Kyrgyzstan) holds the record with 9. VERGARA Hector (Canada), VROMANS Walter (Belgium) and LISTKIEWICZ Michal (Poland) follows with 7 matches, then YUSTE Juan (Spain) with 6."
   ]
  },
  {
   "cell_type": "code",
   "execution_count": 54,
   "metadata": {},
   "outputs": [
    {
     "name": "stderr",
     "output_type": "stream",
     "text": [
      "C:\\Users\\dell\\anaconda3\\lib\\site-packages\\seaborn\\_decorators.py:36: FutureWarning: Pass the following variables as keyword args: x, y. From version 0.12, the only valid positional argument will be `data`, and passing other arguments without an explicit keyword will result in an error or misinterpretation.\n",
      "  warnings.warn(\n"
     ]
    },
    {
     "data": {
      "image/png": "[encoded data removed]",
      "text/plain": [
       "<Figure size 432x288 with 1 Axes>"
      ]
     },
     "metadata": {
      "needs_background": "light"
     },
     "output_type": "display_data"
    }
   ],
   "source": [
    "matches_visuals(matches, 'Home Team Name')"
   ]
  },
  {
   "cell_type": "markdown",
   "metadata": {},
   "source": [
    "Teams with the highest number of matches as the home team are;\n",
    "1. Brazil    78\n",
    "2. Germany   74\n",
    "3. Italy     57\n",
    "4. Argentina 52\n",
    "5. England   35"
   ]
  },
  {
   "cell_type": "code",
   "execution_count": 55,
   "metadata": {},
   "outputs": [
    {
     "name": "stderr",
     "output_type": "stream",
     "text": [
      "C:\\Users\\dell\\anaconda3\\lib\\site-packages\\seaborn\\_decorators.py:36: FutureWarning: Pass the following variables as keyword args: x, y. From version 0.12, the only valid positional argument will be `data`, and passing other arguments without an explicit keyword will result in an error or misinterpretation.\n",
      "  warnings.warn(\n"
     ]
    },
    {
     "data": {
      "image/png": "[encoded data removed]",
      "text/plain": [
       "<Figure size 432x288 with 1 Axes>"
      ]
     },
     "metadata": {
      "needs_background": "light"
     },
     "output_type": "display_data"
    }
   ],
   "source": [
    "matches_visuals(matches, 'Away Team Name')"
   ]
  },
  {
   "cell_type": "markdown",
   "metadata": {},
   "source": [
    "Teams with the highest number of matches as the away team are;\n",
    "1. Mexico  37\n",
    "2. Germany 31\n",
    "3. France  30\n",
    "4. Spain   29\n",
    "5. England 27\n",
    "\n",
    "Generally, the top 5 teams with the highest appearances;\n",
    "Germany, Brazil, Italy, Argentina and England"
   ]
  },
  {
   "cell_type": "markdown",
   "metadata": {},
   "source": [
    "Let's move to the next dataset; players\n",
    "\n",
    "### Coach with the highest appearances at World Cup"
   ]
  },
  {
   "cell_type": "code",
   "execution_count": 56,
   "metadata": {},
   "outputs": [],
   "source": [
    "# create another function that would be used to check the univariate variable in players dataset\n",
    "def players_visuals(player, variables):\n",
    "    var = player[variables].value_counts()[:10]\n",
    "    base_color = sb.color_palette()[4]\n",
    "    sb.barplot(var.values, var.index, color=base_color)\n",
    "    plt.suptitle('Top 10 {} with the Highest Number of Matches'.format(variables))\n",
    "    plt.xlabel('Counts')\n",
    "    plt.ylabel('{}'.format(variables))\n",
    "    plt.show();"
   ]
  },
  {
   "cell_type": "code",
   "execution_count": 57,
   "metadata": {
    "scrolled": false
   },
   "outputs": [
    {
     "name": "stderr",
     "output_type": "stream",
     "text": [
      "C:\\Users\\dell\\anaconda3\\lib\\site-packages\\seaborn\\_decorators.py:36: FutureWarning: Pass the following variables as keyword args: x, y. From version 0.12, the only valid positional argument will be `data`, and passing other arguments without an explicit keyword will result in an error or misinterpretation.\n",
      "  warnings.warn(\n"
     ]
    },
    {
     "data": {
      "image/png": "[encoded data removed]",
      "text/plain": [
       "<Figure size 432x288 with 1 Axes>"
      ]
     },
     "metadata": {
      "needs_background": "light"
     },
     "output_type": "display_data"
    }
   ],
   "source": [
    "# coach with the highest appearnce\n",
    "players_visuals(players, 'Coach Name')"
   ]
  },
  {
   "cell_type": "code",
   "execution_count": 58,
   "metadata": {},
   "outputs": [
    {
     "data": {
      "text/plain": [
       "SCHOEN Helmut (FRG)               550\n",
       "PARREIRA Carlos Alberto (BRA)     514\n",
       "SCOLARI Luiz Felipe (BRA)         483\n",
       "MILUTINOVIC Bora (YUG)            443\n",
       "ZAGALLO Mario (BRA)               440\n",
       "                                 ... \n",
       "PASCUCCI Felipe (ITA)              18\n",
       "VAN MASTENBROEK Johannes (NED)     18\n",
       "McREA James (SCO)                  17\n",
       "LUIZ VINHAES (BRA)                 17\n",
       "RADULESCU Constantin (ROU)         15\n",
       "Name: Coach Name, Length: 335, dtype: int64"
      ]
     },
     "execution_count": 58,
     "metadata": {},
     "output_type": "execute_result"
    }
   ],
   "source": [
    "players['Coach Name'].value_counts()"
   ]
  },
  {
   "cell_type": "markdown",
   "metadata": {},
   "source": [
    "The top 5 are;\n",
    "1. SCHOEN Helmut (FRG)               550\n",
    "2. PARREIRA Carlos Alberto (BRA)     514\n",
    "3. SCOLARI Luiz Felipe (BRA)         483\n",
    "4. MILUTINOVIC Bora (YUG)            443\n",
    "5. ZAGALLO Mario (BRA)               440\n",
    "\n",
    "And the bottom 5 are;\n",
    "\n",
    "1. PASCUCCI Felipe (ITA)              18\n",
    "2. VAN MASTENBROEK Johannes (NED)     18\n",
    "3. McREA James (SCO)                  17\n",
    "4. LUIZ VINHAES (BRA)                 17\n",
    "5. RADULESCU Constantin (ROU)         15\n",
    "\n",
    "Coaches that have managed the most matches have been from Brazil\n"
   ]
  },
  {
   "cell_type": "markdown",
   "metadata": {},
   "source": [
    "Let's move to the last dataset; preview\n",
    "\n",
    "### Countries that have won the World Cup the most"
   ]
  },
  {
   "cell_type": "code",
   "execution_count": 59,
   "metadata": {},
   "outputs": [
    {
     "name": "stderr",
     "output_type": "stream",
     "text": [
      "C:\\Users\\dell\\anaconda3\\lib\\site-packages\\seaborn\\_decorators.py:36: FutureWarning: Pass the following variables as keyword args: x, y. From version 0.12, the only valid positional argument will be `data`, and passing other arguments without an explicit keyword will result in an error or misinterpretation.\n",
      "  warnings.warn(\n"
     ]
    },
    {
     "data": {
      "image/png": "[encoded data removed]",
      "text/plain": [
       "<Figure size 720x432 with 1 Axes>"
      ]
     },
     "metadata": {
      "needs_background": "light"
     },
     "output_type": "display_data"
    }
   ],
   "source": [
    "preview_visuals(preview, 'Winner')"
   ]
  },
  {
   "cell_type": "markdown",
   "metadata": {},
   "source": [
    "- Brazil have won the most world cups 5\n",
    "- Italy and Germany, 4 each\n",
    "- Uruguay and Argentina, 2 each\n",
    "- England, France and Spain, 1 each"
   ]
  },
  {
   "cell_type": "markdown",
   "metadata": {},
   "source": [
    "### The most Runner-up countries in World Cup History"
   ]
  },
  {
   "cell_type": "code",
   "execution_count": 60,
   "metadata": {},
   "outputs": [
    {
     "name": "stderr",
     "output_type": "stream",
     "text": [
      "C:\\Users\\dell\\anaconda3\\lib\\site-packages\\seaborn\\_decorators.py:36: FutureWarning: Pass the following variables as keyword args: x, y. From version 0.12, the only valid positional argument will be `data`, and passing other arguments without an explicit keyword will result in an error or misinterpretation.\n",
      "  warnings.warn(\n"
     ]
    },
    {
     "data": {
      "image/png": "[encoded data removed]",
      "text/plain": [
       "<Figure size 720x432 with 1 Axes>"
      ]
     },
     "metadata": {
      "needs_background": "light"
     },
     "output_type": "display_data"
    }
   ],
   "source": [
    "preview_visuals(preview, 'Runners-Up')"
   ]
  },
  {
   "cell_type": "markdown",
   "metadata": {},
   "source": [
    "The Runners-Up are;\n",
    "1. Germany - 4\n",
    "2. Argentina and Netherlands - 3 each\n",
    "3. Czechoslovakia, Hungary, Brazil and Italy - 2 each\n",
    "4. Sweden and France "
   ]
  },
  {
   "cell_type": "markdown",
   "metadata": {},
   "source": [
    "### The most Third placed Team in the History of World Cup"
   ]
  },
  {
   "cell_type": "code",
   "execution_count": 61,
   "metadata": {},
   "outputs": [
    {
     "name": "stderr",
     "output_type": "stream",
     "text": [
      "C:\\Users\\dell\\anaconda3\\lib\\site-packages\\seaborn\\_decorators.py:36: FutureWarning: Pass the following variables as keyword args: x, y. From version 0.12, the only valid positional argument will be `data`, and passing other arguments without an explicit keyword will result in an error or misinterpretation.\n",
      "  warnings.warn(\n"
     ]
    },
    {
     "data": {
      "image/png": "[encoded data removed]",
      "text/plain": [
       "<Figure size 720x432 with 1 Axes>"
      ]
     },
     "metadata": {
      "needs_background": "light"
     },
     "output_type": "display_data"
    }
   ],
   "source": [
    "preview_visuals(preview, 'Third')"
   ]
  },
  {
   "cell_type": "markdown",
   "metadata": {},
   "source": [
    "The most third placed teams;\n",
    "1. Again Germany - 4\n",
    "2. Brazil, Sweden, France, Poland - 2 each\n",
    "3. USA, Austria, Chile, Portugal, Italy, Croatia, Turkey and Netherlands -have been 3rd once."
   ]
  },
  {
   "cell_type": "markdown",
   "metadata": {},
   "source": [
    "### The most Fourth placed Team in the History of World Cup"
   ]
  },
  {
   "cell_type": "code",
   "execution_count": 62,
   "metadata": {},
   "outputs": [
    {
     "name": "stderr",
     "output_type": "stream",
     "text": [
      "C:\\Users\\dell\\anaconda3\\lib\\site-packages\\seaborn\\_decorators.py:36: FutureWarning: Pass the following variables as keyword args: x, y. From version 0.12, the only valid positional argument will be `data`, and passing other arguments without an explicit keyword will result in an error or misinterpretation.\n",
      "  warnings.warn(\n"
     ]
    },
    {
     "data": {
      "image/png": "[encoded data removed]",
      "text/plain": [
       "<Figure size 720x432 with 1 Axes>"
      ]
     },
     "metadata": {
      "needs_background": "light"
     },
     "output_type": "display_data"
    }
   ],
   "source": [
    "preview_visuals(preview, 'Fourth')"
   ]
  },
  {
   "cell_type": "markdown",
   "metadata": {},
   "source": [
    "The most 4th place team is Uruguay. Notice, Brazil, Germany still appeared, this just show and prove how consistent they have been. "
   ]
  },
  {
   "cell_type": "markdown",
   "metadata": {},
   "source": [
    "### Attendance Distribution Over the Years"
   ]
  },
  {
   "cell_type": "code",
   "execution_count": 63,
   "metadata": {},
   "outputs": [
    {
     "data": {
      "text/plain": [
       "count    2.000000e+01\n",
       "mean     1.872882e+06\n",
       "std      1.071842e+06\n",
       "min      3.630000e+05\n",
       "25%      8.748315e+05\n",
       "50%      1.734864e+06\n",
       "75%      2.725173e+06\n",
       "max      3.587538e+06\n",
       "Name: Attendance, dtype: float64"
      ]
     },
     "execution_count": 63,
     "metadata": {},
     "output_type": "execute_result"
    }
   ],
   "source": [
    "preview['Attendance'].describe()"
   ]
  },
  {
   "cell_type": "code",
   "execution_count": 64,
   "metadata": {
    "scrolled": true
   },
   "outputs": [
    {
     "data": {
      "image/png": "[encoded data removed]",
      "text/plain": [
       "<Figure size 576x360 with 1 Axes>"
      ]
     },
     "metadata": {
      "needs_background": "light"
     },
     "output_type": "display_data"
    }
   ],
   "source": [
    "binsize = np.arange(0, preview['Attendance'].max()+500000, 500000)\n",
    "plt.figure(figsize=[8, 5])\n",
    "plt.hist(data=preview, x='Attendance', bins=binsize)\n",
    "plt.xticks([5e5, 1e6, 1.5e6, 2e6, 2.5e6, 3e6, 3.5e6], ['500k', '1M', '1.5M', '2M', '2.5M', '3M', '3.5M'])\n",
    "plt.xlabel('Attendance')\n",
    "plt.show();"
   ]
  },
  {
   "cell_type": "markdown",
   "metadata": {},
   "source": [
    "Generally, the average attendance at the world cup would be millions. However, they have been tournament that have around 500k+ spectators. And in some tournaments, attendance have been over 1 million, and the most occuring attendance have been within 1.5 million to 2 million. Also, some tournaments have been able to produce over 3 million people."
   ]
  },
  {
   "cell_type": "markdown",
   "metadata": {},
   "source": [
    "### Distribution of the Goals scored over all the tournaments"
   ]
  },
  {
   "cell_type": "code",
   "execution_count": 65,
   "metadata": {},
   "outputs": [
    {
     "data": {
      "text/plain": [
       "count     20.000000\n",
       "mean     118.950000\n",
       "std       32.972836\n",
       "min       70.000000\n",
       "25%       89.000000\n",
       "50%      120.500000\n",
       "75%      145.250000\n",
       "max      171.000000\n",
       "Name: GoalsScored, dtype: float64"
      ]
     },
     "execution_count": 65,
     "metadata": {},
     "output_type": "execute_result"
    }
   ],
   "source": [
    "preview['GoalsScored'].describe()"
   ]
  },
  {
   "cell_type": "code",
   "execution_count": 66,
   "metadata": {},
   "outputs": [
    {
     "data": {
      "image/png": "[encoded data removed]",
      "text/plain": [
       "<Figure size 576x360 with 1 Axes>"
      ]
     },
     "metadata": {
      "needs_background": "light"
     },
     "output_type": "display_data"
    }
   ],
   "source": [
    "binsize = np.arange(0, preview['GoalsScored'].max()+15, 15)\n",
    "plt.figure(figsize=[8, 5])\n",
    "plt.hist(data=preview, x='GoalsScored', bins=binsize)\n",
    "plt.xlim(60, 180)\n",
    "plt.xticks([70,80,90,100,110,120,130,140,150,160,170,180,190], ['70', '80', '90', '100', '110', '120', '130', '140', '150', '160', '170', '180', '190'])\n",
    "plt.xlabel('Goals')\n",
    "plt.show();"
   ]
  },
  {
   "cell_type": "markdown",
   "metadata": {},
   "source": [
    "Most goals scored in the history world cup have been within the range of 140 to 149, then around 80 to 90 goals occuring next. Though, goals scored over all the tournamnet have really varied, cases as low as 70 goals and as high as 170 goals."
   ]
  },
  {
   "cell_type": "markdown",
   "metadata": {},
   "source": [
    "Which side tends to win more, is it the home team or away team?\n",
    "\n",
    "### Side with the Highest Win Rate"
   ]
  },
  {
   "cell_type": "code",
   "execution_count": 67,
   "metadata": {},
   "outputs": [
    {
     "data": {
      "image/png": "[encoded data removed]",
      "text/plain": [
       "<Figure size 432x432 with 1 Axes>"
      ]
     },
     "metadata": {},
     "output_type": "display_data"
    }
   ],
   "source": [
    "matches['Home_Team_Results'].value_counts().plot(kind='pie', autopct = '%1.2f%%', figsize = (6,6));"
   ]
  },
  {
   "cell_type": "markdown",
   "metadata": {},
   "source": [
    "Home Teams tends to win more, compared to Away Team"
   ]
  },
  {
   "cell_type": "code",
   "execution_count": 68,
   "metadata": {},
   "outputs": [
    {
     "data": {
      "image/png": "[encoded data removed]",
      "text/plain": [
       "<Figure size 432x432 with 1 Axes>"
      ]
     },
     "metadata": {},
     "output_type": "display_data"
    }
   ],
   "source": [
    "matches['Away_Team_Results'].value_counts().plot(kind='pie', autopct = '%1.2f%%', figsize = (6,6));"
   ]
  },
  {
   "cell_type": "markdown",
   "metadata": {},
   "source": [
    "This is just mere confirmation to the plot above it. So we can say, since the inception of world cup, the probability of wining as the home side team is approximately 57%. And which is the same probability of lossing as the away team."
   ]
  },
  {
   "cell_type": "markdown",
   "metadata": {},
   "source": [
    "### Discuss the distribution(s) of your variable(s) of interest. Were there any unusual points? Did you need to perform any transformations?\n",
    "\n",
    "No transformation was made\n",
    "\n",
    "### Of the features you investigated, were there any unusual distributions? Did you perform any operations on the data to tidy, adjust, or change the form of the data? If so, why did you do this?\n",
    "\n",
    "During my investigation, I had to make some changes to the dataset, that assisted for proper analysis.\n",
    "1. Created 2 new columns on matches dataset, `Home_Team_Results` and `Away_Team_Results`, these would tell the results of each matches played, either win, loss or draw.\n",
    "2. The former name given to Germany was in **Germany FR**. I had to change it to Germany.\n",
    "3. Change the `Attendance` column in preview dataset from object or int64."
   ]
  },
  {
   "cell_type": "markdown",
   "metadata": {},
   "source": [
    "## Bivariate Exploration\n"
   ]
  },
  {
   "cell_type": "markdown",
   "metadata": {},
   "source": [
    "Firstly, the questions gotten from the previous section;\n",
    ">1. Why is it that **Italy** and **France** that have also hosted 2 tournament like **Brazil**, **Mexico** and **Germany**, does not have a city that have hosted more matches? \n",
    ">2. *Montevideo* capital of **Uruguay** and *Johannesburg* city in **South Africa** with just 1 tournament have more matches hosted. Why?\n",
    "\n",
    "Possible answers are;\n",
    ">1. Are more matches played during that year the countries hosted that could have resulted in the cities hosting more matches?\n",
    ">2. Perhaps, matches have been spread across the cities of **Italy** and **France** that resulted in not having a city with more matches hosted.\n",
    "\n",
    "Let's see if possible answer 1 is the solution to the questions."
   ]
  },
  {
   "cell_type": "code",
   "execution_count": 69,
   "metadata": {},
   "outputs": [
    {
     "name": "stderr",
     "output_type": "stream",
     "text": [
      "<ipython-input-69-bbffa823825a>:4: FutureWarning: Indexing with multiple keys (implicitly converted to a tuple of keys) will be deprecated, use a list instead.\n",
      "  preview.groupby(['Year', 'Country'])['Country', 'MatchesPlayed'].sum()\n"
     ]
    },
    {
     "data": {
      "text/html": [
       "<div>\n",
       "<style scoped>\n",
       "    .dataframe tbody tr th:only-of-type {\n",
       "        vertical-align: middle;\n",
       "    }\n",
       "\n",
       "    .dataframe tbody tr th {\n",
       "        vertical-align: top;\n",
       "    }\n",
       "\n",
       "    .dataframe thead th {\n",
       "        text-align: right;\n",
       "    }\n",
       "</style>\n",
       "<table border=\"1\" class=\"dataframe\">\n",
       "  <thead>\n",
       "    <tr style=\"text-align: right;\">\n",
       "      <th></th>\n",
       "      <th></th>\n",
       "      <th>MatchesPlayed</th>\n",
       "    </tr>\n",
       "    <tr>\n",
       "      <th>Year</th>\n",
       "      <th>Country</th>\n",
       "      <th></th>\n",
       "    </tr>\n",
       "  </thead>\n",
       "  <tbody>\n",
       "    <tr>\n",
       "      <th>1930</th>\n",
       "      <th>Uruguay</th>\n",
       "      <td>18</td>\n",
       "    </tr>\n",
       "    <tr>\n",
       "      <th>1934</th>\n",
       "      <th>Italy</th>\n",
       "      <td>17</td>\n",
       "    </tr>\n",
       "    <tr>\n",
       "      <th>1938</th>\n",
       "      <th>France</th>\n",
       "      <td>18</td>\n",
       "    </tr>\n",
       "    <tr>\n",
       "      <th>1950</th>\n",
       "      <th>Brazil</th>\n",
       "      <td>22</td>\n",
       "    </tr>\n",
       "    <tr>\n",
       "      <th>1954</th>\n",
       "      <th>Switzerland</th>\n",
       "      <td>26</td>\n",
       "    </tr>\n",
       "    <tr>\n",
       "      <th>1958</th>\n",
       "      <th>Sweden</th>\n",
       "      <td>35</td>\n",
       "    </tr>\n",
       "    <tr>\n",
       "      <th>1962</th>\n",
       "      <th>Chile</th>\n",
       "      <td>32</td>\n",
       "    </tr>\n",
       "    <tr>\n",
       "      <th>1966</th>\n",
       "      <th>England</th>\n",
       "      <td>32</td>\n",
       "    </tr>\n",
       "    <tr>\n",
       "      <th>1970</th>\n",
       "      <th>Mexico</th>\n",
       "      <td>32</td>\n",
       "    </tr>\n",
       "    <tr>\n",
       "      <th>1974</th>\n",
       "      <th>Germany</th>\n",
       "      <td>38</td>\n",
       "    </tr>\n",
       "    <tr>\n",
       "      <th>1978</th>\n",
       "      <th>Argentina</th>\n",
       "      <td>38</td>\n",
       "    </tr>\n",
       "    <tr>\n",
       "      <th>1982</th>\n",
       "      <th>Spain</th>\n",
       "      <td>52</td>\n",
       "    </tr>\n",
       "    <tr>\n",
       "      <th>1986</th>\n",
       "      <th>Mexico</th>\n",
       "      <td>52</td>\n",
       "    </tr>\n",
       "    <tr>\n",
       "      <th>1990</th>\n",
       "      <th>Italy</th>\n",
       "      <td>52</td>\n",
       "    </tr>\n",
       "    <tr>\n",
       "      <th>1994</th>\n",
       "      <th>USA</th>\n",
       "      <td>52</td>\n",
       "    </tr>\n",
       "    <tr>\n",
       "      <th>1998</th>\n",
       "      <th>France</th>\n",
       "      <td>64</td>\n",
       "    </tr>\n",
       "    <tr>\n",
       "      <th>2002</th>\n",
       "      <th>Korea/Japan</th>\n",
       "      <td>64</td>\n",
       "    </tr>\n",
       "    <tr>\n",
       "      <th>2006</th>\n",
       "      <th>Germany</th>\n",
       "      <td>64</td>\n",
       "    </tr>\n",
       "    <tr>\n",
       "      <th>2010</th>\n",
       "      <th>South Africa</th>\n",
       "      <td>64</td>\n",
       "    </tr>\n",
       "    <tr>\n",
       "      <th>2014</th>\n",
       "      <th>Brazil</th>\n",
       "      <td>64</td>\n",
       "    </tr>\n",
       "  </tbody>\n",
       "</table>\n",
       "</div>"
      ],
      "text/plain": [
       "                   MatchesPlayed\n",
       "Year Country                    \n",
       "1930 Uruguay                  18\n",
       "1934 Italy                    17\n",
       "1938 France                   18\n",
       "1950 Brazil                   22\n",
       "1954 Switzerland              26\n",
       "1958 Sweden                   35\n",
       "1962 Chile                    32\n",
       "1966 England                  32\n",
       "1970 Mexico                   32\n",
       "1974 Germany                  38\n",
       "1978 Argentina                38\n",
       "1982 Spain                    52\n",
       "1986 Mexico                   52\n",
       "1990 Italy                    52\n",
       "1994 USA                      52\n",
       "1998 France                   64\n",
       "2002 Korea/Japan              64\n",
       "2006 Germany                  64\n",
       "2010 South Africa             64\n",
       "2014 Brazil                   64"
      ]
     },
     "execution_count": 69,
     "metadata": {},
     "output_type": "execute_result"
    }
   ],
   "source": [
    "# 2-way Table\n",
    "# # Group by Function\n",
    "\n",
    "preview.groupby(['Year', 'Country'])['Country', 'MatchesPlayed'].sum()"
   ]
  },
  {
   "cell_type": "markdown",
   "metadata": {},
   "source": [
    "### Total Matches Played in each Tournament Year"
   ]
  },
  {
   "cell_type": "code",
   "execution_count": 70,
   "metadata": {
    "scrolled": false
   },
   "outputs": [
    {
     "name": "stderr",
     "output_type": "stream",
     "text": [
      "<ipython-input-70-25a10778220c>:1: FutureWarning: Indexing with multiple keys (implicitly converted to a tuple of keys) will be deprecated, use a list instead.\n",
      "  preview.groupby(['Year', 'Country'])['Country', 'MatchesPlayed'].sum().plot(kind='bar', figsize=[12, 6]);\n"
     ]
    },
    {
     "data": {
      "image/png": "[encoded data removed]",
      "text/plain": [
       "<Figure size 864x432 with 1 Axes>"
      ]
     },
     "metadata": {
      "needs_background": "light"
     },
     "output_type": "display_data"
    }
   ],
   "source": [
    "preview.groupby(['Year', 'Country'])['Country', 'MatchesPlayed'].sum().plot(kind='bar', figsize=[12, 6]);"
   ]
  },
  {
   "cell_type": "markdown",
   "metadata": {},
   "source": [
    "The answer is **No**, we still need to check *answer 2*. \n",
    "\n",
    "Key takeaways;\n",
    "1. This tells us that **Uruguay** as a one time country-host with just 18 matches played have a city its capital *Montevideo* that have more matches played. This could be said that most of the matches played as at the year 1930 were played mostly at it capital. \n",
    "2. Even though **Italy** and **France** had hosted 17 and 18 matches respectively as at the first time they hosted the world cup. However, they pretty much had more matches the next time they hosted, 52 and 64 matches respectively, still, they do not have a city that have more matches hosted than the top 10 cities.\n",
    "3. *Mexico city* and *Guadalajar* in **Mexico**, the 1st and 3rd city with higest number of matches, have a fair reason to that. 32 and 52 matches hosted the first 2 times. Though this does not necessarily change the fact that, most of those matches might have been played in those 2 cities. Same scenerio with **Brazil** and **Germany** too.\n",
    "4. **South Africa** that hosted just once also, although with 64 matches played. *Johannesburg* could be the city in **South Africa** that have hosted the most matches back then in 2010.\n",
    "\n",
    "Now, let's see if possible answer 2 could get us more insight"
   ]
  },
  {
   "cell_type": "code",
   "execution_count": 71,
   "metadata": {},
   "outputs": [
    {
     "data": {
      "text/plain": [
       "Brazil                        78\n",
       "Germany                       74\n",
       "Italy                         57\n",
       "Argentina                     52\n",
       "England                       35\n",
       "                              ..\n",
       "Wales                          1\n",
       "Norway                         1\n",
       "rn\">United Arab Emirates       1\n",
       "Haiti                          1\n",
       "rn\">Bosnia and Herzegovina     1\n",
       "Name: Home Team Name, Length: 77, dtype: int64"
      ]
     },
     "execution_count": 71,
     "metadata": {},
     "output_type": "execute_result"
    }
   ],
   "source": [
    "matches['Home Team Name'].value_counts()"
   ]
  },
  {
   "cell_type": "markdown",
   "metadata": {},
   "source": [
    "We would be focusing on just 7 countries. 'France', 'Italy', 'South Africa', 'Uruguay', 'Mexico', 'Brazil', 'Germany'"
   ]
  },
  {
   "cell_type": "code",
   "execution_count": 72,
   "metadata": {},
   "outputs": [],
   "source": [
    "# considering only 7 countries, 'France', 'Italy', 'South Africa', 'Uruguay', 'Mexico', 'Brazil', 'Germany', 'Germany FR'\n",
    "home_team_select = matches.loc[matches['Home Team Name'].isin(['France', 'Italy', 'South Africa', 'Uruguay', 'Mexico', 'Brazil', 'Germany'])]\n",
    "away_team_select = matches.loc[matches['Away Team Name'].isin(['France', 'Italy', 'South Africa', 'Uruguay', 'Mexico', 'Brazil', 'Germany'])]"
   ]
  },
  {
   "cell_type": "code",
   "execution_count": 73,
   "metadata": {},
   "outputs": [],
   "source": [
    "# need to check how these teams have been distributed as home or away team across the cities\n",
    "home_team = home_team_select.groupby(['Home Team Name', 'City'])[['City']].count()\n",
    "away_team = home_team_select.groupby(['Away Team Name', 'City'])[['City']].count()"
   ]
  },
  {
   "cell_type": "code",
   "execution_count": 74,
   "metadata": {},
   "outputs": [
    {
     "name": "stdout",
     "output_type": "stream",
     "text": [
      "(186, 1)\n",
      "(273, 1)\n"
     ]
    }
   ],
   "source": [
    "print(home_team.shape)\n",
    "print(away_team.shape)"
   ]
  },
  {
   "cell_type": "markdown",
   "metadata": {},
   "source": [
    "Let's check if we can get a city in those country that have hosted more, most concern is for **FRANCE** and **ITALY**. \n",
    "\n",
    "NOTE: The cities that would be listed is not only cities in those countries, but everyother cities they have played. However, more concern is on cities with 3 or more matches of that country and check the how spread out are their matches across the cities. "
   ]
  },
  {
   "cell_type": "code",
   "execution_count": 75,
   "metadata": {},
   "outputs": [
    {
     "data": {
      "text/plain": [
       "(City\n",
       " Belo Horizonte        2\n",
       " Berlin                1\n",
       " Bordeaux              3\n",
       " Brasilia              1\n",
       " Buenos Aires          1\n",
       " Detroit               1\n",
       " Dortmund              1\n",
       " Fortaleza             2\n",
       " Frankfurt/Main        2\n",
       " Geneva                1\n",
       " Gothenburg            3\n",
       " Guadalajara           8\n",
       " Hanover               1\n",
       " Jeju                  1\n",
       " Johannesburg          3\n",
       " Kobe                  1\n",
       " Lausanne              1\n",
       " Liverpool             1\n",
       " Los Angeles           1\n",
       " Mar Del Plata         2\n",
       " Marseilles            2\n",
       " Mendoza               2\n",
       " Mexico City           1\n",
       " Montevideo            1\n",
       " Munich                2\n",
       " Nantes                2\n",
       " Paris                 1\n",
       " Rio De Janeiro        4\n",
       " Saint-Denis           2\n",
       " Saitama               1\n",
       " San Francisco         3\n",
       " Santiago De Chile     2\n",
       " Sao Paulo             2\n",
       " Seville               3\n",
       " Solna                 2\n",
       " Strasbourg            1\n",
       " Turin                 4\n",
       " Udevalla              1\n",
       " Ulsan                 1\n",
       " Vina Del Mar          4\n",
       " Name: City, dtype: int64,\n",
       " City\n",
       " Barcelona          1\n",
       " Marseilles         1\n",
       " Rio De Janeiro     1\n",
       " Yokohama           1\n",
       " Name: City, dtype: int64)"
      ]
     },
     "execution_count": 75,
     "metadata": {},
     "output_type": "execute_result"
    }
   ],
   "source": [
    "# BRAZIL\n",
    "home_team.loc['Brazil','City'], away_team.loc['Brazil','City']"
   ]
  },
  {
   "cell_type": "code",
   "execution_count": 76,
   "metadata": {},
   "outputs": [
    {
     "data": {
      "text/plain": [
       "(City\n",
       " Arica                                 1\n",
       " Basel                                 2\n",
       " Belo Horizonte                        1\n",
       " Berne                                 1\n",
       " Cape Town                             2\n",
       " Fortaleza                             1\n",
       " Hanover                               1\n",
       " Johannesburg                          1\n",
       " London                                2\n",
       " Mexico City                           1\n",
       " Montevideo                            4\n",
       " Nelson Mandela Bay/Port Elizabeth     2\n",
       " Puebla                                2\n",
       " Queretaro                             1\n",
       " Rio De Janeiro                        1\n",
       " Sao Paulo                             3\n",
       " Udine                                 1\n",
       " Ulsan                                 1\n",
       " Name: City, dtype: int64,\n",
       " City\n",
       " Busan                1\n",
       " Guadalajara          1\n",
       " Mexico City          1\n",
       " Natal                1\n",
       " Phokeng              1\n",
       " Rome                 1\n",
       " Sheffield            1\n",
       " Tshwane/Pretoria     1\n",
       " Name: City, dtype: int64)"
      ]
     },
     "execution_count": 76,
     "metadata": {},
     "output_type": "execute_result"
    }
   ],
   "source": [
    "# URUGUAY\n",
    "home_team.loc['Uruguay','City'], away_team.loc['Uruguay','City']"
   ]
  },
  {
   "cell_type": "code",
   "execution_count": 77,
   "metadata": {},
   "outputs": [
    {
     "data": {
      "text/plain": [
       "(City\n",
       " Brasilia                  1\n",
       " Busan                     1\n",
       " Colombes                  1\n",
       " Geneva                    1\n",
       " Gothenburg                1\n",
       " Guadalajara               1\n",
       " Leipzig                   1\n",
       " Lens                      1\n",
       " Leon                      1\n",
       " London                    1\n",
       " Lyon                      1\n",
       " Madrid                    1\n",
       " Mangaung/Bloemfontein     1\n",
       " Mar Del Plata             1\n",
       " Marseilles                1\n",
       " Montevideo                1\n",
       " Norrk�Ping                2\n",
       " Orebro                    1\n",
       " Polokwane                 1\n",
       " Porto Alegre              1\n",
       " Puebla                    1\n",
       " Rio De Janeiro            1\n",
       " Saint-Denis               2\n",
       " Seoul                     1\n",
       " Stuttgart                 1\n",
       " Valladolid                2\n",
       " Name: City, dtype: int64,\n",
       " City\n",
       " Berlin             1\n",
       " Cape Town          1\n",
       " Colombes           1\n",
       " Frankfurt/Main     1\n",
       " Guadalajara        1\n",
       " London             1\n",
       " Mar Del Plata      1\n",
       " Mexico City        1\n",
       " Saint-Denis        2\n",
       " Seville            1\n",
       " Solna              1\n",
       " Name: City, dtype: int64)"
      ]
     },
     "execution_count": 77,
     "metadata": {},
     "output_type": "execute_result"
    }
   ],
   "source": [
    "# FRANCE\n",
    "home_team.loc['France','City'], away_team.loc['France','City']"
   ]
  },
  {
   "cell_type": "code",
   "execution_count": 78,
   "metadata": {},
   "outputs": [
    {
     "data": {
      "text/plain": [
       "(City\n",
       " Barcelona               2\n",
       " Bari                    1\n",
       " Berlin                  1\n",
       " Bordeaux                1\n",
       " Boston                  1\n",
       " Buenos Aires            2\n",
       " Cape Town               1\n",
       " Colombes                2\n",
       " Florence                2\n",
       " Hamburg                 1\n",
       " Hanover                 1\n",
       " Ibaraki                 1\n",
       " Kaiserslautern          2\n",
       " Lugano                  1\n",
       " Madrid                  1\n",
       " Mar Del Plata           2\n",
       " Marseilles              3\n",
       " Mexico City             2\n",
       " Milan                   1\n",
       " Montpellier             1\n",
       " Munich                  1\n",
       " Naples                  1\n",
       " Natal                   1\n",
       " Nelspruit               1\n",
       " New York/New Jersey     2\n",
       " Puebla                  1\n",
       " Recife                  1\n",
       " Rome                    7\n",
       " Saint-Denis             2\n",
       " Santiago De Chile       1\n",
       " Sao Paulo               1\n",
       " Sapporo                 1\n",
       " Sunderland              1\n",
       " Toluca                  3\n",
       " Vigo                    3\n",
       " Washington Dc           1\n",
       " Name: City, dtype: int64,\n",
       " City\n",
       " Buenos Aires          2\n",
       " Dortmund              1\n",
       " Los Angeles           1\n",
       " Mexico City           1\n",
       " Oita                  1\n",
       " Puebla                1\n",
       " Santiago De Chile     1\n",
       " Name: City, dtype: int64)"
      ]
     },
     "execution_count": 78,
     "metadata": {},
     "output_type": "execute_result"
    }
   ],
   "source": [
    "# ITALY\n",
    "home_team.loc['Italy','City'], away_team.loc['Italy','City']"
   ]
  },
  {
   "cell_type": "code",
   "execution_count": 79,
   "metadata": {
    "scrolled": false
   },
   "outputs": [
    {
     "data": {
      "text/html": [
       "<div>\n",
       "<style scoped>\n",
       "    .dataframe tbody tr th:only-of-type {\n",
       "        vertical-align: middle;\n",
       "    }\n",
       "\n",
       "    .dataframe tbody tr th {\n",
       "        vertical-align: top;\n",
       "    }\n",
       "\n",
       "    .dataframe thead th {\n",
       "        text-align: right;\n",
       "    }\n",
       "</style>\n",
       "<table border=\"1\" class=\"dataframe\">\n",
       "  <thead>\n",
       "    <tr style=\"text-align: right;\">\n",
       "      <th></th>\n",
       "      <th>Year</th>\n",
       "      <th>Datetime</th>\n",
       "      <th>Stage</th>\n",
       "      <th>Stadium</th>\n",
       "      <th>City</th>\n",
       "      <th>Home Team Name</th>\n",
       "      <th>Home Team Goals</th>\n",
       "      <th>Away Team Goals</th>\n",
       "      <th>Away Team Name</th>\n",
       "      <th>Attendance</th>\n",
       "      <th>Half-time Home Goals</th>\n",
       "      <th>Half-time Away Goals</th>\n",
       "      <th>Referee</th>\n",
       "      <th>Assistant 1</th>\n",
       "      <th>Assistant 2</th>\n",
       "      <th>Home_Team_Results</th>\n",
       "      <th>Away_Team_Results</th>\n",
       "    </tr>\n",
       "  </thead>\n",
       "  <tbody>\n",
       "    <tr>\n",
       "      <th>24</th>\n",
       "      <td>1934</td>\n",
       "      <td>1934-05-27 16:30:00</td>\n",
       "      <td>Preliminary round</td>\n",
       "      <td>Nazionale PNF</td>\n",
       "      <td>Rome</td>\n",
       "      <td>Italy</td>\n",
       "      <td>7</td>\n",
       "      <td>1</td>\n",
       "      <td>USA</td>\n",
       "      <td>25000.0</td>\n",
       "      <td>3</td>\n",
       "      <td>0</td>\n",
       "      <td>MERCET Rene (SUI)</td>\n",
       "      <td>ESCARTIN Pedro (ESP)</td>\n",
       "      <td>ZENISEK Bohumil (TCH)</td>\n",
       "      <td>Win</td>\n",
       "      <td>Loss</td>\n",
       "    </tr>\n",
       "    <tr>\n",
       "      <th>32</th>\n",
       "      <td>1934</td>\n",
       "      <td>1934-06-03 16:30:00</td>\n",
       "      <td>Semi-finals</td>\n",
       "      <td>Nazionale PNF</td>\n",
       "      <td>Rome</td>\n",
       "      <td>Czechoslovakia</td>\n",
       "      <td>3</td>\n",
       "      <td>1</td>\n",
       "      <td>Germany</td>\n",
       "      <td>15000.0</td>\n",
       "      <td>1</td>\n",
       "      <td>0</td>\n",
       "      <td>BARLASSINA Rinaldo (ITA)</td>\n",
       "      <td>BERANEK Alois (AUT)</td>\n",
       "      <td>ESCARTIN Pedro (ESP)</td>\n",
       "      <td>Win</td>\n",
       "      <td>Loss</td>\n",
       "    </tr>\n",
       "    <tr>\n",
       "      <th>34</th>\n",
       "      <td>1934</td>\n",
       "      <td>1934-06-10 17:30:00</td>\n",
       "      <td>Final</td>\n",
       "      <td>Nazionale PNF</td>\n",
       "      <td>Rome</td>\n",
       "      <td>Italy</td>\n",
       "      <td>2</td>\n",
       "      <td>1</td>\n",
       "      <td>Czechoslovakia</td>\n",
       "      <td>55000.0</td>\n",
       "      <td>0</td>\n",
       "      <td>0</td>\n",
       "      <td>EKLIND Ivan (SWE)</td>\n",
       "      <td>BAERT Louis (BEL)</td>\n",
       "      <td>IVANCSICS Mihaly (HUN)</td>\n",
       "      <td>Win</td>\n",
       "      <td>Loss</td>\n",
       "    </tr>\n",
       "    <tr>\n",
       "      <th>415</th>\n",
       "      <td>1990</td>\n",
       "      <td>1990-06-09 21:00:00</td>\n",
       "      <td>Group A</td>\n",
       "      <td>Stadio Olimpico</td>\n",
       "      <td>Rome</td>\n",
       "      <td>Italy</td>\n",
       "      <td>1</td>\n",
       "      <td>0</td>\n",
       "      <td>Austria</td>\n",
       "      <td>73303.0</td>\n",
       "      <td>0</td>\n",
       "      <td>0</td>\n",
       "      <td>RAMIZ WRIGHT Jose (BRA)</td>\n",
       "      <td>PEREZ HOYOS Armando (COL)</td>\n",
       "      <td>SILVA VALENTE Carlos Alberto (POR)</td>\n",
       "      <td>Win</td>\n",
       "      <td>Loss</td>\n",
       "    </tr>\n",
       "    <tr>\n",
       "      <th>427</th>\n",
       "      <td>1990</td>\n",
       "      <td>1990-06-14 21:00:00</td>\n",
       "      <td>Group A</td>\n",
       "      <td>Stadio Olimpico</td>\n",
       "      <td>Rome</td>\n",
       "      <td>Italy</td>\n",
       "      <td>1</td>\n",
       "      <td>0</td>\n",
       "      <td>USA</td>\n",
       "      <td>73423.0</td>\n",
       "      <td>1</td>\n",
       "      <td>0</td>\n",
       "      <td>CODESAL MENDEZ Edgardo (MEX)</td>\n",
       "      <td>CARDELLINO DE SAN VICENTE Juan (URU)</td>\n",
       "      <td>ULLOA MORERA Berny (CRC)</td>\n",
       "      <td>Win</td>\n",
       "      <td>Loss</td>\n",
       "    </tr>\n",
       "    <tr>\n",
       "      <th>440</th>\n",
       "      <td>1990</td>\n",
       "      <td>1990-06-19 21:00:00</td>\n",
       "      <td>Group A</td>\n",
       "      <td>Stadio Olimpico</td>\n",
       "      <td>Rome</td>\n",
       "      <td>Italy</td>\n",
       "      <td>2</td>\n",
       "      <td>0</td>\n",
       "      <td>Czechoslovakia</td>\n",
       "      <td>73303.0</td>\n",
       "      <td>1</td>\n",
       "      <td>0</td>\n",
       "      <td>QUINIOU Joel (FRA)</td>\n",
       "      <td>VAN LANGENHOVE Marcel (BEL)</td>\n",
       "      <td>SMITH George (SCO)</td>\n",
       "      <td>Win</td>\n",
       "      <td>Loss</td>\n",
       "    </tr>\n",
       "    <tr>\n",
       "      <th>453</th>\n",
       "      <td>1990</td>\n",
       "      <td>1990-06-25 21:00:00</td>\n",
       "      <td>Round of 16</td>\n",
       "      <td>Stadio Olimpico</td>\n",
       "      <td>Rome</td>\n",
       "      <td>Italy</td>\n",
       "      <td>2</td>\n",
       "      <td>0</td>\n",
       "      <td>Uruguay</td>\n",
       "      <td>73303.0</td>\n",
       "      <td>0</td>\n",
       "      <td>0</td>\n",
       "      <td>COURTNEY George (ENG)</td>\n",
       "      <td>ROETHLISBERGER Kurt (SUI)</td>\n",
       "      <td>PETROVIC Zoran (SRB)</td>\n",
       "      <td>Win</td>\n",
       "      <td>Loss</td>\n",
       "    </tr>\n",
       "    <tr>\n",
       "      <th>457</th>\n",
       "      <td>1990</td>\n",
       "      <td>1990-06-30 21:00:00</td>\n",
       "      <td>Quarter-finals</td>\n",
       "      <td>Stadio Olimpico</td>\n",
       "      <td>Rome</td>\n",
       "      <td>Italy</td>\n",
       "      <td>1</td>\n",
       "      <td>0</td>\n",
       "      <td>rn\"&gt;Republic of Ireland</td>\n",
       "      <td>73303.0</td>\n",
       "      <td>1</td>\n",
       "      <td>0</td>\n",
       "      <td>SILVA VALENTE Carlos Alberto (POR)</td>\n",
       "      <td>PEREZ HOYOS Armando (COL)</td>\n",
       "      <td>ULLOA MORERA Berny (CRC)</td>\n",
       "      <td>Win</td>\n",
       "      <td>Loss</td>\n",
       "    </tr>\n",
       "    <tr>\n",
       "      <th>463</th>\n",
       "      <td>1990</td>\n",
       "      <td>1990-07-08 20:00:00</td>\n",
       "      <td>Final</td>\n",
       "      <td>Stadio Olimpico</td>\n",
       "      <td>Rome</td>\n",
       "      <td>Germany</td>\n",
       "      <td>1</td>\n",
       "      <td>0</td>\n",
       "      <td>Argentina</td>\n",
       "      <td>73603.0</td>\n",
       "      <td>0</td>\n",
       "      <td>0</td>\n",
       "      <td>CODESAL MENDEZ Edgardo (MEX)</td>\n",
       "      <td>PEREZ HOYOS Armando (COL)</td>\n",
       "      <td>LISTKIEWICZ Michal (POL)</td>\n",
       "      <td>Win</td>\n",
       "      <td>Loss</td>\n",
       "    </tr>\n",
       "  </tbody>\n",
       "</table>\n",
       "</div>"
      ],
      "text/plain": [
       "     Year             Datetime              Stage          Stadium   City  \\\n",
       "24   1934  1934-05-27 16:30:00  Preliminary round    Nazionale PNF  Rome    \n",
       "32   1934  1934-06-03 16:30:00        Semi-finals    Nazionale PNF  Rome    \n",
       "34   1934  1934-06-10 17:30:00              Final    Nazionale PNF  Rome    \n",
       "415  1990  1990-06-09 21:00:00            Group A  Stadio Olimpico  Rome    \n",
       "427  1990  1990-06-14 21:00:00            Group A  Stadio Olimpico  Rome    \n",
       "440  1990  1990-06-19 21:00:00            Group A  Stadio Olimpico  Rome    \n",
       "453  1990  1990-06-25 21:00:00        Round of 16  Stadio Olimpico  Rome    \n",
       "457  1990  1990-06-30 21:00:00     Quarter-finals  Stadio Olimpico  Rome    \n",
       "463  1990  1990-07-08 20:00:00              Final  Stadio Olimpico  Rome    \n",
       "\n",
       "     Home Team Name  Home Team Goals  Away Team Goals  \\\n",
       "24            Italy                7                1   \n",
       "32   Czechoslovakia                3                1   \n",
       "34            Italy                2                1   \n",
       "415           Italy                1                0   \n",
       "427           Italy                1                0   \n",
       "440           Italy                2                0   \n",
       "453           Italy                2                0   \n",
       "457           Italy                1                0   \n",
       "463         Germany                1                0   \n",
       "\n",
       "              Away Team Name  Attendance  Half-time Home Goals  \\\n",
       "24                       USA     25000.0                     3   \n",
       "32                   Germany     15000.0                     1   \n",
       "34            Czechoslovakia     55000.0                     0   \n",
       "415                  Austria     73303.0                     0   \n",
       "427                      USA     73423.0                     1   \n",
       "440           Czechoslovakia     73303.0                     1   \n",
       "453                  Uruguay     73303.0                     0   \n",
       "457  rn\">Republic of Ireland     73303.0                     1   \n",
       "463                Argentina     73603.0                     0   \n",
       "\n",
       "     Half-time Away Goals                             Referee  \\\n",
       "24                      0                   MERCET Rene (SUI)   \n",
       "32                      0            BARLASSINA Rinaldo (ITA)   \n",
       "34                      0                   EKLIND Ivan (SWE)   \n",
       "415                     0             RAMIZ WRIGHT Jose (BRA)   \n",
       "427                     0        CODESAL MENDEZ Edgardo (MEX)   \n",
       "440                     0                  QUINIOU Joel (FRA)   \n",
       "453                     0               COURTNEY George (ENG)   \n",
       "457                     0  SILVA VALENTE Carlos Alberto (POR)   \n",
       "463                     0        CODESAL MENDEZ Edgardo (MEX)   \n",
       "\n",
       "                              Assistant 1                         Assistant 2  \\\n",
       "24                   ESCARTIN Pedro (ESP)               ZENISEK Bohumil (TCH)   \n",
       "32                    BERANEK Alois (AUT)                ESCARTIN Pedro (ESP)   \n",
       "34                      BAERT Louis (BEL)              IVANCSICS Mihaly (HUN)   \n",
       "415             PEREZ HOYOS Armando (COL)  SILVA VALENTE Carlos Alberto (POR)   \n",
       "427  CARDELLINO DE SAN VICENTE Juan (URU)            ULLOA MORERA Berny (CRC)   \n",
       "440           VAN LANGENHOVE Marcel (BEL)                  SMITH George (SCO)   \n",
       "453             ROETHLISBERGER Kurt (SUI)                PETROVIC Zoran (SRB)   \n",
       "457             PEREZ HOYOS Armando (COL)            ULLOA MORERA Berny (CRC)   \n",
       "463             PEREZ HOYOS Armando (COL)            LISTKIEWICZ Michal (POL)   \n",
       "\n",
       "    Home_Team_Results Away_Team_Results  \n",
       "24                Win              Loss  \n",
       "32                Win              Loss  \n",
       "34                Win              Loss  \n",
       "415               Win              Loss  \n",
       "427               Win              Loss  \n",
       "440               Win              Loss  \n",
       "453               Win              Loss  \n",
       "457               Win              Loss  \n",
       "463               Win              Loss  "
      ]
     },
     "execution_count": 79,
     "metadata": {},
     "output_type": "execute_result"
    }
   ],
   "source": [
    "# ONLY ROME IN ITALY\n",
    "matches[matches['City'] == 'Rome ']"
   ]
  },
  {
   "cell_type": "code",
   "execution_count": 80,
   "metadata": {},
   "outputs": [
    {
     "data": {
      "text/plain": [
       "(City\n",
       " Hanover                 1\n",
       " Jeonju                  1\n",
       " Mexico City             5\n",
       " Natal                   1\n",
       " New York/New Jersey     1\n",
       " Nuremberg               1\n",
       " Oita                    1\n",
       " Orlando                 1\n",
       " Phokeng                 1\n",
       " Rifu                    1\n",
       " Solna                   1\n",
       " Vina Del Mar            1\n",
       " Name: City, dtype: int64,\n",
       " City\n",
       " Cordoba            1\n",
       " Fortaleza          1\n",
       " Geneva             2\n",
       " Johannesburg       1\n",
       " London             2\n",
       " Monterrey          1\n",
       " Montevideo         1\n",
       " Montpellier        1\n",
       " Polokwane          1\n",
       " Rio De Janeiro     1\n",
       " Toluca             1\n",
       " Vina Del Mar       1\n",
       " Washington Dc      1\n",
       " Name: City, dtype: int64)"
      ]
     },
     "execution_count": 80,
     "metadata": {},
     "output_type": "execute_result"
    }
   ],
   "source": [
    "# MEXICO\n",
    "home_team.loc['Mexico','City'], away_team.loc['Mexico','City']"
   ]
  },
  {
   "cell_type": "code",
   "execution_count": 81,
   "metadata": {},
   "outputs": [
    {
     "data": {
      "text/plain": [
       "(City\n",
       " Basel                                 1\n",
       " Berlin                                1\n",
       " Berlin West                           1\n",
       " Berne                                 2\n",
       " Birmingham                            2\n",
       " Buenos Aires                          2\n",
       " Chicago                               3\n",
       " Cordoba                               3\n",
       " Dallas                                1\n",
       " Dortmund                              2\n",
       " Durban                                2\n",
       " D�Sseldorf                            1\n",
       " Florence                              1\n",
       " Fortaleza                             1\n",
       " Geneva                                1\n",
       " Gijon                                 3\n",
       " Helsingborg                           1\n",
       " Ibaraki                               1\n",
       " Jeju                                  1\n",
       " Lens                                  1\n",
       " Leon                                  4\n",
       " Liverpool                             1\n",
       " Lyon                                  1\n",
       " Madrid                                2\n",
       " Malm�                                 2\n",
       " Mangaung/Bloemfontein                 1\n",
       " Mexico City                           1\n",
       " Milan                                 6\n",
       " Monterrey                             1\n",
       " Montpellier                           2\n",
       " Munich                                2\n",
       " Naples                                1\n",
       " Nelson Mandela Bay/Port Elizabeth     1\n",
       " Paris                                 1\n",
       " Queretaro                             1\n",
       " Rio De Janeiro                        1\n",
       " Rome                                  1\n",
       " Salvador                              1\n",
       " Santiago De Chile                     3\n",
       " Sapporo                               1\n",
       " Seoul                                 1\n",
       " Seville                               1\n",
       " Sheffield                             2\n",
       " Stuttgart                             1\n",
       " Turin                                 1\n",
       " Ulsan                                 1\n",
       " Yokohama                              1\n",
       " Zurich                                1\n",
       " Name: City, dtype: int64,\n",
       " City\n",
       " Belo Horizonte                        1\n",
       " Gothenburg                            1\n",
       " Guadalajara                           1\n",
       " Madrid                                1\n",
       " Mexico City                           1\n",
       " Nelson Mandela Bay/Port Elizabeth     1\n",
       " Queretaro                             1\n",
       " Rio De Janeiro                        1\n",
       " Name: City, dtype: int64)"
      ]
     },
     "execution_count": 81,
     "metadata": {},
     "output_type": "execute_result"
    }
   ],
   "source": [
    "# GERMANY\n",
    "home_team.loc['Germany','City'], away_team.loc['Germany','City']"
   ]
  },
  {
   "cell_type": "code",
   "execution_count": 82,
   "metadata": {},
   "outputs": [
    {
     "data": {
      "text/plain": [
       "(City\n",
       " Bordeaux             1\n",
       " Daegu                1\n",
       " Daejeon              1\n",
       " Johannesburg         1\n",
       " Toulouse             1\n",
       " Tshwane/Pretoria     1\n",
       " Name: City, dtype: int64,\n",
       " City\n",
       " Mangaung/Bloemfontein     1\n",
       " Marseilles                1\n",
       " Name: City, dtype: int64)"
      ]
     },
     "execution_count": 82,
     "metadata": {},
     "output_type": "execute_result"
    }
   ],
   "source": [
    "# SOUTH AFRICA\n",
    "home_team.loc['South Africa','City'], away_team.loc['South Africa','City']"
   ]
  },
  {
   "cell_type": "code",
   "execution_count": 83,
   "metadata": {},
   "outputs": [
    {
     "data": {
      "text/html": [
       "<div>\n",
       "<style scoped>\n",
       "    .dataframe tbody tr th:only-of-type {\n",
       "        vertical-align: middle;\n",
       "    }\n",
       "\n",
       "    .dataframe tbody tr th {\n",
       "        vertical-align: top;\n",
       "    }\n",
       "\n",
       "    .dataframe thead th {\n",
       "        text-align: right;\n",
       "    }\n",
       "</style>\n",
       "<table border=\"1\" class=\"dataframe\">\n",
       "  <thead>\n",
       "    <tr style=\"text-align: right;\">\n",
       "      <th></th>\n",
       "      <th>Year</th>\n",
       "      <th>Datetime</th>\n",
       "      <th>Stage</th>\n",
       "      <th>Stadium</th>\n",
       "      <th>City</th>\n",
       "      <th>Home Team Name</th>\n",
       "      <th>Home Team Goals</th>\n",
       "      <th>Away Team Goals</th>\n",
       "      <th>Away Team Name</th>\n",
       "      <th>Attendance</th>\n",
       "      <th>Half-time Home Goals</th>\n",
       "      <th>Half-time Away Goals</th>\n",
       "      <th>Referee</th>\n",
       "      <th>Assistant 1</th>\n",
       "      <th>Assistant 2</th>\n",
       "      <th>Home_Team_Results</th>\n",
       "      <th>Away_Team_Results</th>\n",
       "    </tr>\n",
       "  </thead>\n",
       "  <tbody>\n",
       "    <tr>\n",
       "      <th>708</th>\n",
       "      <td>2010</td>\n",
       "      <td>2010-06-11 16:00:00</td>\n",
       "      <td>Group A</td>\n",
       "      <td>Soccer City Stadium</td>\n",
       "      <td>Johannesburg</td>\n",
       "      <td>South Africa</td>\n",
       "      <td>1</td>\n",
       "      <td>1</td>\n",
       "      <td>Mexico</td>\n",
       "      <td>84490.0</td>\n",
       "      <td>0</td>\n",
       "      <td>0</td>\n",
       "      <td>Ravshan IRMATOV (UZB)</td>\n",
       "      <td>ILYASOV Rafael (UZB)</td>\n",
       "      <td>KOCHKAROV Bakhadyr (KGZ)</td>\n",
       "      <td>Draw</td>\n",
       "      <td>Draw</td>\n",
       "    </tr>\n",
       "    <tr>\n",
       "      <th>711</th>\n",
       "      <td>2010</td>\n",
       "      <td>2010-06-12 16:00:00</td>\n",
       "      <td>Group B</td>\n",
       "      <td>Ellis Park Stadium</td>\n",
       "      <td>Johannesburg</td>\n",
       "      <td>Argentina</td>\n",
       "      <td>1</td>\n",
       "      <td>0</td>\n",
       "      <td>Nigeria</td>\n",
       "      <td>55686.0</td>\n",
       "      <td>1</td>\n",
       "      <td>0</td>\n",
       "      <td>Wolfgang STARK (GER)</td>\n",
       "      <td>SALVER Jan-Hendrik (GER)</td>\n",
       "      <td>PICKEL Mike (GER)</td>\n",
       "      <td>Win</td>\n",
       "      <td>Loss</td>\n",
       "    </tr>\n",
       "    <tr>\n",
       "      <th>716</th>\n",
       "      <td>2010</td>\n",
       "      <td>2010-06-14 13:30:00</td>\n",
       "      <td>Group E</td>\n",
       "      <td>Soccer City Stadium</td>\n",
       "      <td>Johannesburg</td>\n",
       "      <td>Netherlands</td>\n",
       "      <td>2</td>\n",
       "      <td>0</td>\n",
       "      <td>Denmark</td>\n",
       "      <td>83465.0</td>\n",
       "      <td>0</td>\n",
       "      <td>0</td>\n",
       "      <td>St�phane LANNOY (FRA)</td>\n",
       "      <td>DANSAULT Eric (FRA)</td>\n",
       "      <td>UGO Laurent (FRA)</td>\n",
       "      <td>Win</td>\n",
       "      <td>Loss</td>\n",
       "    </tr>\n",
       "    <tr>\n",
       "      <th>721</th>\n",
       "      <td>2010</td>\n",
       "      <td>2010-06-15 20:30:00</td>\n",
       "      <td>Group G</td>\n",
       "      <td>Ellis Park Stadium</td>\n",
       "      <td>Johannesburg</td>\n",
       "      <td>Brazil</td>\n",
       "      <td>2</td>\n",
       "      <td>1</td>\n",
       "      <td>Korea DPR</td>\n",
       "      <td>54331.0</td>\n",
       "      <td>0</td>\n",
       "      <td>0</td>\n",
       "      <td>KASSAI Viktor (HUN)</td>\n",
       "      <td>EROS Gabor (HUN)</td>\n",
       "      <td>VAMOS Tibor (HUN)</td>\n",
       "      <td>Win</td>\n",
       "      <td>Loss</td>\n",
       "    </tr>\n",
       "    <tr>\n",
       "      <th>725</th>\n",
       "      <td>2010</td>\n",
       "      <td>2010-06-17 13:30:00</td>\n",
       "      <td>Group B</td>\n",
       "      <td>Soccer City Stadium</td>\n",
       "      <td>Johannesburg</td>\n",
       "      <td>Argentina</td>\n",
       "      <td>4</td>\n",
       "      <td>1</td>\n",
       "      <td>Korea Republic</td>\n",
       "      <td>82174.0</td>\n",
       "      <td>2</td>\n",
       "      <td>1</td>\n",
       "      <td>DE BLEECKERE Frank (BEL)</td>\n",
       "      <td>HERMANS Peter (BEL)</td>\n",
       "      <td>VROMANS Walter (BEL)</td>\n",
       "      <td>Win</td>\n",
       "      <td>Loss</td>\n",
       "    </tr>\n",
       "    <tr>\n",
       "      <th>729</th>\n",
       "      <td>2010</td>\n",
       "      <td>2010-06-18 16:00:00</td>\n",
       "      <td>Group C</td>\n",
       "      <td>Ellis Park Stadium</td>\n",
       "      <td>Johannesburg</td>\n",
       "      <td>Slovenia</td>\n",
       "      <td>2</td>\n",
       "      <td>2</td>\n",
       "      <td>USA</td>\n",
       "      <td>45573.0</td>\n",
       "      <td>2</td>\n",
       "      <td>0</td>\n",
       "      <td>Koman COULIBALY (MLI)</td>\n",
       "      <td>ACHIK Redouane (MAR)</td>\n",
       "      <td>MANUEL CANDIDO Inacio (ANG)</td>\n",
       "      <td>Draw</td>\n",
       "      <td>Draw</td>\n",
       "    </tr>\n",
       "    <tr>\n",
       "      <th>736</th>\n",
       "      <td>2010</td>\n",
       "      <td>2010-06-20 20:30:00</td>\n",
       "      <td>Group G</td>\n",
       "      <td>Soccer City Stadium</td>\n",
       "      <td>Johannesburg</td>\n",
       "      <td>Brazil</td>\n",
       "      <td>3</td>\n",
       "      <td>1</td>\n",
       "      <td>C�te d'Ivoire</td>\n",
       "      <td>84455.0</td>\n",
       "      <td>1</td>\n",
       "      <td>0</td>\n",
       "      <td>St�phane LANNOY (FRA)</td>\n",
       "      <td>DANSAULT Eric (FRA)</td>\n",
       "      <td>UGO Laurent (FRA)</td>\n",
       "      <td>Win</td>\n",
       "      <td>Loss</td>\n",
       "    </tr>\n",
       "    <tr>\n",
       "      <th>739</th>\n",
       "      <td>2010</td>\n",
       "      <td>2010-06-21 20:30:00</td>\n",
       "      <td>Group H</td>\n",
       "      <td>Ellis Park Stadium</td>\n",
       "      <td>Johannesburg</td>\n",
       "      <td>Spain</td>\n",
       "      <td>2</td>\n",
       "      <td>0</td>\n",
       "      <td>Honduras</td>\n",
       "      <td>54386.0</td>\n",
       "      <td>1</td>\n",
       "      <td>0</td>\n",
       "      <td>NISHIMURA Yuichi (JPN)</td>\n",
       "      <td>SAGARA Toru (JPN)</td>\n",
       "      <td>JEONG Hae Sang (KOR)</td>\n",
       "      <td>Win</td>\n",
       "      <td>Loss</td>\n",
       "    </tr>\n",
       "    <tr>\n",
       "      <th>746</th>\n",
       "      <td>2010</td>\n",
       "      <td>2010-06-23 20:30:00</td>\n",
       "      <td>Group D</td>\n",
       "      <td>Soccer City Stadium</td>\n",
       "      <td>Johannesburg</td>\n",
       "      <td>Ghana</td>\n",
       "      <td>0</td>\n",
       "      <td>1</td>\n",
       "      <td>Germany</td>\n",
       "      <td>83391.0</td>\n",
       "      <td>0</td>\n",
       "      <td>0</td>\n",
       "      <td>SIMON Carlos (BRA)</td>\n",
       "      <td>HAUSMANN Altemir (BRA)</td>\n",
       "      <td>BRAATZ Roberto (BRA)</td>\n",
       "      <td>Loss</td>\n",
       "      <td>Win</td>\n",
       "    </tr>\n",
       "    <tr>\n",
       "      <th>748</th>\n",
       "      <td>2010</td>\n",
       "      <td>2010-06-24 16:00:00</td>\n",
       "      <td>Group F</td>\n",
       "      <td>Ellis Park Stadium</td>\n",
       "      <td>Johannesburg</td>\n",
       "      <td>Slovakia</td>\n",
       "      <td>3</td>\n",
       "      <td>2</td>\n",
       "      <td>Italy</td>\n",
       "      <td>53412.0</td>\n",
       "      <td>1</td>\n",
       "      <td>0</td>\n",
       "      <td>WEBB Howard (ENG)</td>\n",
       "      <td>Darren CANN (ENG)</td>\n",
       "      <td>MULLARKEY Michael (ENG)</td>\n",
       "      <td>Win</td>\n",
       "      <td>Loss</td>\n",
       "    </tr>\n",
       "    <tr>\n",
       "      <th>759</th>\n",
       "      <td>2010</td>\n",
       "      <td>2010-06-27 20:30:00</td>\n",
       "      <td>Round of 16</td>\n",
       "      <td>Soccer City Stadium</td>\n",
       "      <td>Johannesburg</td>\n",
       "      <td>Argentina</td>\n",
       "      <td>3</td>\n",
       "      <td>1</td>\n",
       "      <td>Mexico</td>\n",
       "      <td>84377.0</td>\n",
       "      <td>2</td>\n",
       "      <td>0</td>\n",
       "      <td>ROSETTI Roberto (ITA)</td>\n",
       "      <td>CALCAGNO Paolo (ITA)</td>\n",
       "      <td>AYROLDI Stefano (ITA)</td>\n",
       "      <td>Win</td>\n",
       "      <td>Loss</td>\n",
       "    </tr>\n",
       "    <tr>\n",
       "      <th>761</th>\n",
       "      <td>2010</td>\n",
       "      <td>2010-06-28 20:30:00</td>\n",
       "      <td>Round of 16</td>\n",
       "      <td>Ellis Park Stadium</td>\n",
       "      <td>Johannesburg</td>\n",
       "      <td>Brazil</td>\n",
       "      <td>3</td>\n",
       "      <td>0</td>\n",
       "      <td>Chile</td>\n",
       "      <td>54096.0</td>\n",
       "      <td>2</td>\n",
       "      <td>0</td>\n",
       "      <td>WEBB Howard (ENG)</td>\n",
       "      <td>Darren CANN (ENG)</td>\n",
       "      <td>MULLARKEY Michael (ENG)</td>\n",
       "      <td>Win</td>\n",
       "      <td>Loss</td>\n",
       "    </tr>\n",
       "    <tr>\n",
       "      <th>765</th>\n",
       "      <td>2010</td>\n",
       "      <td>2010-07-02 20:30:00</td>\n",
       "      <td>Quarter-finals</td>\n",
       "      <td>Soccer City Stadium</td>\n",
       "      <td>Johannesburg</td>\n",
       "      <td>Uruguay</td>\n",
       "      <td>1</td>\n",
       "      <td>1</td>\n",
       "      <td>Ghana</td>\n",
       "      <td>84017.0</td>\n",
       "      <td>0</td>\n",
       "      <td>0</td>\n",
       "      <td>Oleg�rio BENQUEREN�A (POR)</td>\n",
       "      <td>CARDINAL Jose (POR)</td>\n",
       "      <td>MIRANDA Bertino (POR)</td>\n",
       "      <td>Draw</td>\n",
       "      <td>Draw</td>\n",
       "    </tr>\n",
       "    <tr>\n",
       "      <th>767</th>\n",
       "      <td>2010</td>\n",
       "      <td>2010-07-03 20:30:00</td>\n",
       "      <td>Quarter-finals</td>\n",
       "      <td>Ellis Park Stadium</td>\n",
       "      <td>Johannesburg</td>\n",
       "      <td>Paraguay</td>\n",
       "      <td>0</td>\n",
       "      <td>1</td>\n",
       "      <td>Spain</td>\n",
       "      <td>55359.0</td>\n",
       "      <td>0</td>\n",
       "      <td>0</td>\n",
       "      <td>BATRES Carlos (GUA)</td>\n",
       "      <td>LEAL Leonel (CRC)</td>\n",
       "      <td>PASTRANA Carlos (HON)</td>\n",
       "      <td>Loss</td>\n",
       "      <td>Win</td>\n",
       "    </tr>\n",
       "    <tr>\n",
       "      <th>771</th>\n",
       "      <td>2010</td>\n",
       "      <td>2010-07-11 20:30:00</td>\n",
       "      <td>Final</td>\n",
       "      <td>Soccer City Stadium</td>\n",
       "      <td>Johannesburg</td>\n",
       "      <td>Netherlands</td>\n",
       "      <td>0</td>\n",
       "      <td>1</td>\n",
       "      <td>Spain</td>\n",
       "      <td>84490.0</td>\n",
       "      <td>0</td>\n",
       "      <td>0</td>\n",
       "      <td>WEBB Howard (ENG)</td>\n",
       "      <td>Darren CANN (ENG)</td>\n",
       "      <td>MULLARKEY Michael (ENG)</td>\n",
       "      <td>Loss</td>\n",
       "      <td>Win</td>\n",
       "    </tr>\n",
       "  </tbody>\n",
       "</table>\n",
       "</div>"
      ],
      "text/plain": [
       "     Year             Datetime           Stage              Stadium  \\\n",
       "708  2010  2010-06-11 16:00:00         Group A  Soccer City Stadium   \n",
       "711  2010  2010-06-12 16:00:00         Group B   Ellis Park Stadium   \n",
       "716  2010  2010-06-14 13:30:00         Group E  Soccer City Stadium   \n",
       "721  2010  2010-06-15 20:30:00         Group G   Ellis Park Stadium   \n",
       "725  2010  2010-06-17 13:30:00         Group B  Soccer City Stadium   \n",
       "729  2010  2010-06-18 16:00:00         Group C   Ellis Park Stadium   \n",
       "736  2010  2010-06-20 20:30:00         Group G  Soccer City Stadium   \n",
       "739  2010  2010-06-21 20:30:00         Group H   Ellis Park Stadium   \n",
       "746  2010  2010-06-23 20:30:00         Group D  Soccer City Stadium   \n",
       "748  2010  2010-06-24 16:00:00         Group F   Ellis Park Stadium   \n",
       "759  2010  2010-06-27 20:30:00     Round of 16  Soccer City Stadium   \n",
       "761  2010  2010-06-28 20:30:00     Round of 16   Ellis Park Stadium   \n",
       "765  2010  2010-07-02 20:30:00  Quarter-finals  Soccer City Stadium   \n",
       "767  2010  2010-07-03 20:30:00  Quarter-finals   Ellis Park Stadium   \n",
       "771  2010  2010-07-11 20:30:00           Final  Soccer City Stadium   \n",
       "\n",
       "              City Home Team Name  Home Team Goals  Away Team Goals  \\\n",
       "708  Johannesburg    South Africa                1                1   \n",
       "711  Johannesburg       Argentina                1                0   \n",
       "716  Johannesburg     Netherlands                2                0   \n",
       "721  Johannesburg          Brazil                2                1   \n",
       "725  Johannesburg       Argentina                4                1   \n",
       "729  Johannesburg        Slovenia                2                2   \n",
       "736  Johannesburg          Brazil                3                1   \n",
       "739  Johannesburg           Spain                2                0   \n",
       "746  Johannesburg           Ghana                0                1   \n",
       "748  Johannesburg        Slovakia                3                2   \n",
       "759  Johannesburg       Argentina                3                1   \n",
       "761  Johannesburg          Brazil                3                0   \n",
       "765  Johannesburg         Uruguay                1                1   \n",
       "767  Johannesburg        Paraguay                0                1   \n",
       "771  Johannesburg     Netherlands                0                1   \n",
       "\n",
       "     Away Team Name  Attendance  Half-time Home Goals  Half-time Away Goals  \\\n",
       "708          Mexico     84490.0                     0                     0   \n",
       "711         Nigeria     55686.0                     1                     0   \n",
       "716         Denmark     83465.0                     0                     0   \n",
       "721       Korea DPR     54331.0                     0                     0   \n",
       "725  Korea Republic     82174.0                     2                     1   \n",
       "729             USA     45573.0                     2                     0   \n",
       "736   C�te d'Ivoire     84455.0                     1                     0   \n",
       "739        Honduras     54386.0                     1                     0   \n",
       "746         Germany     83391.0                     0                     0   \n",
       "748           Italy     53412.0                     1                     0   \n",
       "759          Mexico     84377.0                     2                     0   \n",
       "761           Chile     54096.0                     2                     0   \n",
       "765           Ghana     84017.0                     0                     0   \n",
       "767           Spain     55359.0                     0                     0   \n",
       "771           Spain     84490.0                     0                     0   \n",
       "\n",
       "                        Referee               Assistant 1  \\\n",
       "708       Ravshan IRMATOV (UZB)      ILYASOV Rafael (UZB)   \n",
       "711        Wolfgang STARK (GER)  SALVER Jan-Hendrik (GER)   \n",
       "716       St�phane LANNOY (FRA)       DANSAULT Eric (FRA)   \n",
       "721         KASSAI Viktor (HUN)          EROS Gabor (HUN)   \n",
       "725    DE BLEECKERE Frank (BEL)       HERMANS Peter (BEL)   \n",
       "729       Koman COULIBALY (MLI)      ACHIK Redouane (MAR)   \n",
       "736       St�phane LANNOY (FRA)       DANSAULT Eric (FRA)   \n",
       "739      NISHIMURA Yuichi (JPN)         SAGARA Toru (JPN)   \n",
       "746          SIMON Carlos (BRA)    HAUSMANN Altemir (BRA)   \n",
       "748           WEBB Howard (ENG)         Darren CANN (ENG)   \n",
       "759       ROSETTI Roberto (ITA)      CALCAGNO Paolo (ITA)   \n",
       "761           WEBB Howard (ENG)         Darren CANN (ENG)   \n",
       "765  Oleg�rio BENQUEREN�A (POR)       CARDINAL Jose (POR)   \n",
       "767         BATRES Carlos (GUA)         LEAL Leonel (CRC)   \n",
       "771           WEBB Howard (ENG)         Darren CANN (ENG)   \n",
       "\n",
       "                     Assistant 2 Home_Team_Results Away_Team_Results  \n",
       "708     KOCHKAROV Bakhadyr (KGZ)              Draw              Draw  \n",
       "711            PICKEL Mike (GER)               Win              Loss  \n",
       "716            UGO Laurent (FRA)               Win              Loss  \n",
       "721            VAMOS Tibor (HUN)               Win              Loss  \n",
       "725         VROMANS Walter (BEL)               Win              Loss  \n",
       "729  MANUEL CANDIDO Inacio (ANG)              Draw              Draw  \n",
       "736            UGO Laurent (FRA)               Win              Loss  \n",
       "739         JEONG Hae Sang (KOR)               Win              Loss  \n",
       "746         BRAATZ Roberto (BRA)              Loss               Win  \n",
       "748      MULLARKEY Michael (ENG)               Win              Loss  \n",
       "759        AYROLDI Stefano (ITA)               Win              Loss  \n",
       "761      MULLARKEY Michael (ENG)               Win              Loss  \n",
       "765        MIRANDA Bertino (POR)              Draw              Draw  \n",
       "767        PASTRANA Carlos (HON)              Loss               Win  \n",
       "771      MULLARKEY Michael (ENG)              Loss               Win  "
      ]
     },
     "execution_count": 83,
     "metadata": {},
     "output_type": "execute_result"
    }
   ],
   "source": [
    "# Johannesburg in South Africa\n",
    "matches[matches['City'] == 'Johannesburg ']"
   ]
  },
  {
   "cell_type": "markdown",
   "metadata": {},
   "source": [
    "For the countries checked except France, had cities hosting 3 or more matches, and we could see matches played in **France** were distributed across it cities. \n",
    "Notice that; \n",
    ">1. *Rome* in **Italy** had hosted herself 7 times. So, we had to check how many times did Rome appeared and why it was not in top 10? Then we realized it hosted just 9 matches, making it the 11th top city with highest matches hosted. \n",
    "\n",
    ">2. *Johannesburg* in **South Africa** did not appear frequently, and there is need to check. And noticed, it hosted different matches across different countries.\n",
    "\n",
    ">3. This just proved that matches in France have been spread out across their cities, not more than 2 matches per city."
   ]
  },
  {
   "cell_type": "markdown",
   "metadata": {},
   "source": [
    "Now, let's check average number of attendance per `City` and `Stadium`"
   ]
  },
  {
   "cell_type": "markdown",
   "metadata": {},
   "source": [
    "### Stadiums with the Highest Attendance over the Years"
   ]
  },
  {
   "cell_type": "markdown",
   "metadata": {},
   "source": [
    "Create a function that would be used to view the attendnace across the following viarbles; `Stadiums`,`City`,`Home Team Name`, and `Away Team Name`"
   ]
  },
  {
   "cell_type": "code",
   "execution_count": 84,
   "metadata": {},
   "outputs": [],
   "source": [
    "def average_attendance(data, variable):\n",
    "    data_attendance = data.groupby(variable).Attendance.mean()\n",
    "    data_attendance = data_attendance.to_frame().groupby(level=variable).Attendance.nlargest().to_frame()\n",
    "    data_attendance.reset_index(level=1, inplace=True)\n",
    "    data_attendance_sort = data_attendance.sort_values('Attendance', ascending=False)[:10]\n",
    "    data_attendance_sort.plot.bar(color='orange', title='{} with the Higest Attendance'.format(variable), xlabel='{}'.format(variable), ylabel='Attendance');"
   ]
  },
  {
   "cell_type": "code",
   "execution_count": 85,
   "metadata": {},
   "outputs": [
    {
     "data": {
      "image/png": "[encoded data removed]",
      "text/plain": [
       "<Figure size 432x288 with 1 Axes>"
      ]
     },
     "metadata": {
      "needs_background": "light"
     },
     "output_type": "display_data"
    }
   ],
   "source": [
    "average_attendance(matches, 'Stadium')"
   ]
  },
  {
   "cell_type": "markdown",
   "metadata": {},
   "source": [
    "Will the top stadiums based on matches still remains based on attendance?\n",
    "\n",
    "Stadiums with the highest average attendance ever are;\n",
    "1. Maracana - Estadio Jornalista Mario Filho located in Rio De Janeiro, Brazil(one of the cities with most appearance at world cup), over 100k+ average attendance.\n",
    "2. Estadio Azteca in Mexico City, Mexico\n",
    "3. Rose Bowl in California, USA\n",
    "4. Wembley Stadium in London, England\n",
    "5. Soccer City Stadium in Johannesburg, South Africa (also one of the cities with the most appearance at world cup), over 80+k average attendance.\n",
    "\n",
    "We could see some stadiums based on matches also appeared here based on attendance; \n",
    "- Estadio Azteca in Mexico\n",
    "- Wembley Stadium in England\n",
    "- Stade de France in France\n",
    "\n",
    "In Mexico, the most used stadium in world cup matches have been from Mexico city."
   ]
  },
  {
   "cell_type": "markdown",
   "metadata": {},
   "source": [
    "### Cities with the Highest Attendance over the Years"
   ]
  },
  {
   "cell_type": "code",
   "execution_count": 86,
   "metadata": {},
   "outputs": [
    {
     "data": {
      "image/png": "[encoded data removed]",
      "text/plain": [
       "<Figure size 432x288 with 1 Axes>"
      ]
     },
     "metadata": {
      "needs_background": "light"
     },
     "output_type": "display_data"
    }
   ],
   "source": [
    "average_attendance(matches, 'City')"
   ]
  },
  {
   "cell_type": "markdown",
   "metadata": {},
   "source": [
    "Firstly, we can say that stadium such as Estadio Azteca in Mexico city, Mexico, Maracana in Rio De Janeiro, Brazil and Wembley in London, England are the major reason those cities have had lots of attendance at world cup.\n",
    "The top 5 cities based on average attendance are;\n",
    "1. Mexico city in Mexico\n",
    "2. Los Angeles in USA\n",
    "3. Rio De Janeiro in Brazil\n",
    "4. London in England\n",
    "5. San Francisco in USA\n",
    "\n",
    "USA appearing twice need attention, perhaps the year USA hosted the world cup have been the year with most attendance ever in the history of world cup. This would be confirmed."
   ]
  },
  {
   "cell_type": "markdown",
   "metadata": {},
   "source": [
    "### Home Teams that have had the highest attendance"
   ]
  },
  {
   "cell_type": "code",
   "execution_count": 87,
   "metadata": {},
   "outputs": [
    {
     "data": {
      "image/png": "[encoded data removed]",
      "text/plain": [
       "<Figure size 432x288 with 1 Axes>"
      ]
     },
     "metadata": {
      "needs_background": "light"
     },
     "output_type": "display_data"
    }
   ],
   "source": [
    "average_attendance(matches, 'Home Team Name')"
   ]
  },
  {
   "cell_type": "markdown",
   "metadata": {},
   "source": [
    "Based on being the home team, top 3 countries with average highest attendance are Ukraine, Canada, and Ecuador."
   ]
  },
  {
   "cell_type": "markdown",
   "metadata": {},
   "source": [
    "### Away Teams that have had the highest attendance"
   ]
  },
  {
   "cell_type": "code",
   "execution_count": 88,
   "metadata": {},
   "outputs": [
    {
     "data": {
      "image/png": "[encoded data removed]",
      "text/plain": [
       "<Figure size 432x288 with 1 Axes>"
      ]
     },
     "metadata": {
      "needs_background": "light"
     },
     "output_type": "display_data"
    }
   ],
   "source": [
    "average_attendance(matches, 'Away Team Name')"
   ]
  },
  {
   "cell_type": "markdown",
   "metadata": {},
   "source": [
    "Based on being the away team, top 3 countries with average highest attendance are Russia, El Salvador, and Serbi & Montenegro."
   ]
  },
  {
   "cell_type": "markdown",
   "metadata": {},
   "source": [
    "Let's check for Goals scored at Half-Time by Home Team and Away Team, to see if Home Teams tend to score more than Away Teams.\n",
    "\n",
    "### Home Team Goals at Half-Time"
   ]
  },
  {
   "cell_type": "code",
   "execution_count": 89,
   "metadata": {},
   "outputs": [],
   "source": [
    "def average_goals(data, variable1, variable2):\n",
    "    data_goals = data.groupby(variable1)[variable2].mean()\n",
    "    data_goals = data_goals.to_frame().groupby(level=variable1)[variable2].nlargest().to_frame()\n",
    "    data_goals.reset_index(level=1, inplace=True)\n",
    "    data_goals_sort = data_goals.sort_values(variable2, ascending=False)[:10]\n",
    "    data_goals_sort.plot.bar(color='green', title='{} Average Goals at Half-Time'.format(variable1), xlabel='{}'.format(variable1), ylabel='Half-Time Goals');"
   ]
  },
  {
   "cell_type": "code",
   "execution_count": 90,
   "metadata": {},
   "outputs": [
    {
     "data": {
      "image/png": "[encoded data removed]",
      "text/plain": [
       "<Figure size 432x288 with 1 Axes>"
      ]
     },
     "metadata": {
      "needs_background": "light"
     },
     "output_type": "display_data"
    }
   ],
   "source": [
    "average_goals(matches, 'Home Team Name', 'Half-time Home Goals')"
   ]
  },
  {
   "cell_type": "markdown",
   "metadata": {},
   "source": [
    "Based on being the Home team, countries with highest average goals at half time are;\n",
    "1. Turkey (avg 3 goals at half-time)\n",
    "2. Hungary (avg 1.7+ goals)\n",
    "3. Senegal (avg 1.5+ goals)\n",
    "4. Yugoslavia (avg 1.2+ goals)\n",
    "5. Austria (avg 1.1+ goals)\n",
    "\n",
    "But we still need to confirm if they have been more goals at half-time as the home team or not."
   ]
  },
  {
   "cell_type": "markdown",
   "metadata": {},
   "source": [
    "### Away Team Goals at Half-Time"
   ]
  },
  {
   "cell_type": "code",
   "execution_count": 91,
   "metadata": {},
   "outputs": [
    {
     "data": {
      "image/png": "[encoded data removed]",
      "text/plain": [
       "<Figure size 432x288 with 1 Axes>"
      ]
     },
     "metadata": {
      "needs_background": "light"
     },
     "output_type": "display_data"
    }
   ],
   "source": [
    "average_goals(matches, 'Away Team Name', 'Half-time Away Goals')"
   ]
  },
  {
   "cell_type": "markdown",
   "metadata": {},
   "source": [
    "Teams with top average goals as the away team at half-time are;\n",
    "1. Czech Republic (avg 2 goals)\n",
    "2. Serbia and Montenegro (avg 1 goal)\n",
    "3. Togo (avg 1 goal)\n",
    "4. Turkey (avg 0.8+ goals)\n",
    "5. Denmark (avg 0.75+ goals)\n",
    "\n",
    "So we could see that the team with highest average goal at half-time as the away team is 2 goals. So therefore, there is more chances to score goals as the home team at half-time than being the away team. \n",
    "\n",
    "Note; This doesn't mean these are the teams with most goals at world cup. Teams with most goals most have played more matches. "
   ]
  },
  {
   "cell_type": "markdown",
   "metadata": {},
   "source": [
    "### All the Countries Win, Loss and Draw rate over the Years"
   ]
  },
  {
   "cell_type": "code",
   "execution_count": 92,
   "metadata": {
    "scrolled": false
   },
   "outputs": [
    {
     "data": {
      "text/plain": [
       "<AxesSubplot:xlabel='Home Team Name'>"
      ]
     },
     "execution_count": 92,
     "metadata": {},
     "output_type": "execute_result"
    },
    {
     "data": {
      "image/png": "[encoded data removed]",
      "text/plain": [
       "<Figure size 1800x720 with 1 Axes>"
      ]
     },
     "metadata": {
      "needs_background": "light"
     },
     "output_type": "display_data"
    }
   ],
   "source": [
    "matches.groupby(['Home Team Name', 'Home_Team_Results'])['Home Team Name'].count().unstack().plot(kind = 'bar', stacked = False, figsize = (25,10))"
   ]
  },
  {
   "cell_type": "markdown",
   "metadata": {},
   "source": [
    "These would be arranged in terms of **wins** only.\n",
    "\n",
    "TEAMS WITH HIGHEST WINS (Picking top 5)\n",
    "1. Brazil (with 5 world cups)\n",
    "2. Germany (4 world cups)\n",
    "3. Argentina (2 world cups)\n",
    "4. Italy (4 world cups)\n",
    "5. England (1 world cup)\n"
   ]
  },
  {
   "cell_type": "markdown",
   "metadata": {},
   "source": [
    "### Total Goals Scored in each Tournament Year"
   ]
  },
  {
   "cell_type": "code",
   "execution_count": 93,
   "metadata": {},
   "outputs": [
    {
     "name": "stderr",
     "output_type": "stream",
     "text": [
      "<ipython-input-93-10870e4cd328>:1: FutureWarning: Indexing with multiple keys (implicitly converted to a tuple of keys) will be deprecated, use a list instead.\n",
      "  preview.groupby(['Year', 'Country'])['Country', 'GoalsScored'].sum().plot(kind='bar', figsize=[12, 6]);\n"
     ]
    },
    {
     "data": {
      "image/png": "[encoded data removed]",
      "text/plain": [
       "<Figure size 864x432 with 1 Axes>"
      ]
     },
     "metadata": {
      "needs_background": "light"
     },
     "output_type": "display_data"
    }
   ],
   "source": [
    "preview.groupby(['Year', 'Country'])['Country', 'GoalsScored'].sum().plot(kind='bar', figsize=[12, 6]);"
   ]
  },
  {
   "cell_type": "markdown",
   "metadata": {},
   "source": [
    "The world cup tournament with most goals are;\n",
    "1. 1998-France (171 goals)\n",
    "1. 2014-Brazil (171 goals)\n",
    "3. 2002-Korea/Japan (161 goals)\n",
    "4. 2006-Germany (147 goals)\n",
    "5. 1982-Spain (146 goals)"
   ]
  },
  {
   "cell_type": "markdown",
   "metadata": {},
   "source": [
    "### Total Attendance in each Tournament Year"
   ]
  },
  {
   "cell_type": "code",
   "execution_count": 94,
   "metadata": {},
   "outputs": [
    {
     "name": "stderr",
     "output_type": "stream",
     "text": [
      "<ipython-input-94-b7c0e2667e71>:1: FutureWarning: Indexing with multiple keys (implicitly converted to a tuple of keys) will be deprecated, use a list instead.\n",
      "  preview.groupby(['Year', 'Country'])['Country', 'Attendance'].sum().plot(kind='bar', figsize=[12, 6]);\n"
     ]
    },
    {
     "data": {
      "image/png": "[encoded data removed]",
      "text/plain": [
       "<Figure size 864x432 with 1 Axes>"
      ]
     },
     "metadata": {
      "needs_background": "light"
     },
     "output_type": "display_data"
    }
   ],
   "source": [
    "preview.groupby(['Year', 'Country'])['Country', 'Attendance'].sum().plot(kind='bar', figsize=[12, 6]);"
   ]
  },
  {
   "cell_type": "markdown",
   "metadata": {},
   "source": [
    "The world cup tournament with most attendance are;\n",
    "1. 1994-USA (3,587,538)\n",
    "2. 2014-Brazil (3,386,810)\n",
    "3. 2006-Germany (3,359,439)\n",
    "4. 2010-South Africa (3,178,856)\n",
    "5. 1998-France (2,785,100)\n",
    "\n",
    "So this is the reason USA cities were among the top cities with most attendance."
   ]
  },
  {
   "cell_type": "markdown",
   "metadata": {},
   "source": [
    "### Total Qualified Teams in each Tournament Year"
   ]
  },
  {
   "cell_type": "code",
   "execution_count": 95,
   "metadata": {},
   "outputs": [
    {
     "name": "stderr",
     "output_type": "stream",
     "text": [
      "<ipython-input-95-5b6970459fc7>:1: FutureWarning: Indexing with multiple keys (implicitly converted to a tuple of keys) will be deprecated, use a list instead.\n",
      "  preview.groupby(['Year', 'Country'])['Country', 'QualifiedTeams'].sum().plot(kind='bar', figsize=[12, 6]);\n"
     ]
    },
    {
     "data": {
      "image/png": "[encoded data removed]",
      "text/plain": [
       "<Figure size 864x432 with 1 Axes>"
      ]
     },
     "metadata": {
      "needs_background": "light"
     },
     "output_type": "display_data"
    }
   ],
   "source": [
    "preview.groupby(['Year', 'Country'])['Country', 'QualifiedTeams'].sum().plot(kind='bar', figsize=[12, 6]);"
   ]
  },
  {
   "cell_type": "markdown",
   "metadata": {},
   "source": [
    "Qualified teams tends to change gradually, its usually concistent before it changes again.\n",
    "The only first four tournaments were not concistent. However,it became constant after for some years before it then changes again. This should be a kind of rules determined by FIFA officials.\n",
    "- 1930, Uruguay had 13 qualified teams.\n",
    "- 1934, Italy had 16 qualified teams.\n",
    "- 1938, France had 15 qualified teams.\n",
    "- 1950, Brazil had 13 qualified teams.\n",
    "- 1954, Switzerland to 1978, Argentina had the same qualified teams (16).\n",
    "- 1982, Spain to 1994, USA also the same qualified teams (24).\n",
    "- 1998, France to 2014, Brazil also had the same qualified teams (32)."
   ]
  },
  {
   "cell_type": "markdown",
   "metadata": {},
   "source": [
    "### Talk about some of the relationships you observed in this part of the investigation. How did the feature(s) of interest vary with other features in the dataset?\n",
    "\n",
    "The most successful team in world cup history is **Brazil** with 5 trophies. Been in 7 finals and came second twice. Also the team with most wins. They have also participated in most matches, as such it is the team with most appearance in world cup history. Rio De Janeiro have hosted the most matches and have the highest average attendance. Maracana Stadium have had the most attendance.\n",
    "\n",
    "The other closest team is Germany, been in 8 finals and have won it 4 times. The second team with most wins. 2 of it cities were among the top 10 cities with most matches. And the second team with most appearance. \n",
    "\n",
    "Italy with 4 world cup trophies, twice the runners-up. And the 4th team with most wins in world cup history.\n",
    "\n",
    "Other notable mentions; Argentina and Uruguay(2 world cup trophies), England, France and Spain (1 world cup trophy). \n",
    "\n",
    "### Did you observe any interesting relationships between the other features (not the main feature(s) of interest)?\n",
    "\n",
    "Other facts gotten from other features are;\n",
    "\n",
    "1. Mexico is the country with most attendance per match and average attendance in world cup history. Estadio Azteca in Mexico city have hosted the most matches and the 2nd highest average attendance.\n",
    "2. Coach- Schoen Helmut (Germany) have managed the most matches in world cup history, 550 matches.\n",
    "3. Referee - Ravshan Irmatov (Uzbekistan) holds the most officiated matches, 9.\n",
    "4. Teams tends to win more as the home team than being the away team. 57.25% win rate as the home team, 22.28% draw, and 20.48% loss rate as the home team.\n",
    "5. 1998, France to 2014, Brazil, they have played the same number of matches in their tournaments (64 matches).\n",
    "6. Turkey at half-time has average the most goals being the home team in world cup history (avg 3 goals).\n",
    "7. Czech Republic at half-time has average the most goals being the away team in world cup history (avg 2 goals).\n",
    "8. Most goals in a tournament (171 goals), same total goals in France (1998) and Brazil (2014).\n",
    "9. USA (1994) have had the highest attendance in a world cup tournament (3,587,538).\n",
    "10. Recent world cup tournaments have had the same number of qualified teams, 32 teams. Which began from France (1998) - Brazil (2014)."
   ]
  },
  {
   "cell_type": "markdown",
   "metadata": {},
   "source": [
    "## Multivariate Exploration\n",
    "\n",
    "The main thing I want to explore in this part is to correlate how the most successful teams (Brazil, Germany, Italy and Argentina) have scored goals as the home team and away team."
   ]
  },
  {
   "cell_type": "markdown",
   "metadata": {},
   "source": [
    "### Country Goals Correlation Based on Home Team and Away Team"
   ]
  },
  {
   "cell_type": "code",
   "execution_count": 96,
   "metadata": {},
   "outputs": [
    {
     "name": "stdout",
     "output_type": "stream",
     "text": [
      "['white', 'white', 'white', 'white', 'blue', 'white', 'white', 'white', 'white', 'white']\n"
     ]
    }
   ],
   "source": [
    "colors  = []\n",
    "\n",
    "# iterate over rows of matches\n",
    "for color, row in matches.iterrows():\n",
    "    if row['Home Team Name'] == 'Brazil' :\n",
    "        colors.append('green')\n",
    "    elif row['Home Team Name'] == 'Italy' :\n",
    "        colors.append('red')\n",
    "    elif row['Home Team Name'] == 'Germany' :\n",
    "        colors.append('yellow')\n",
    "    elif row['Home Team Name'] == 'Argentina' :\n",
    "        colors.append('blue')\n",
    "    else:\n",
    "        colors.append('white')\n",
    "        \n",
    "# Inspect the first 10 values in your list        \n",
    "print(colors[0:10])"
   ]
  },
  {
   "cell_type": "code",
   "execution_count": 97,
   "metadata": {},
   "outputs": [
    {
     "data": {
      "image/png": "[encoded data removed]",
      "text/plain": [
       "<Figure size 720x432 with 1 Axes>"
      ]
     },
     "metadata": {},
     "output_type": "display_data"
    }
   ],
   "source": [
    "# Set the figure style and initalize a new figure\n",
    "plt.style.use('fivethirtyeight')\n",
    "fig = plt.figure(figsize=(10,6))\n",
    "\n",
    "# Create a scatter plot of duration versus release_year\n",
    "scatter = plt.scatter(x='Home Team Goals', y='Away Team Goals', data=matches, c=colors)\n",
    "\n",
    "# Create a title and axis labels\n",
    "plt.title(\"Country Goals Correlation Based on Home Team and Away Team\")\n",
    "plt.xlabel(\"Home Team Goals\")\n",
    "plt.ylabel(\"Away Team Goals\")\n",
    "\n",
    "# creating our own legend\n",
    "import matplotlib.lines as mlines\n",
    "brazil = mlines.Line2D([], [], color='green', marker='o', ls='', label='Brazil')\n",
    "italy = mlines.Line2D([], [], color='red', marker='o', ls='', label='Italy')\n",
    "germany = mlines.Line2D([], [], color='yellow', marker='o', ls='', label='Germany')\n",
    "argentina = mlines.Line2D([], [], color='blue', marker='o', ls='', label='Argentina')\n",
    "others = mlines.Line2D([], [], color='white', marker='o', ls='', label='Others')\n",
    "\n",
    "plt.legend(handles=[brazil, italy, germany, argentina, others])\n",
    "\n",
    "# Show the plot\n",
    "plt.show()"
   ]
  },
  {
   "cell_type": "markdown",
   "metadata": {},
   "source": [
    "The distribution of goals;\n",
    "- Brazil have scored higher amount goals as the home team.\n",
    "- Italy tend to score 4 goals as the home team and 3 goals as away team.\n",
    "- Germany tend to score more as home team than any other team.\n",
    "- Argentina does not usually score goals as an away team."
   ]
  },
  {
   "cell_type": "markdown",
   "metadata": {},
   "source": [
    "### Talk about some of the relationships you observed in this part of the investigation. Were there features that strengthened each other in terms of looking at your feature(s) of interest?\n",
    "\n",
    "So generally, all teams tends to score goals within 0 to 4 goals either as being the home team or away team.\n",
    "\n",
    "### Were there any interesting or surprising interactions between features?\n",
    "\n",
    "Its lovely to see that only the home team have managed to score over 8 goals to 10 goals. Also, home teams tends to score more goals than the away team. Home teams have scored more 5+ goals than away teams."
   ]
  },
  {
   "cell_type": "markdown",
   "metadata": {},
   "source": [
    "## Conclusions\n",
    "\n",
    "Steps taken to ensure proper report was ensuring all features were in their appropraite type, Germany FR was changed to Germany, and creaated 2 new columns to account for results of all matches played.\n",
    "\n",
    "In Summary;\n",
    "- Best team have been brazil, 5 trophies and most appearnces and most wins\n",
    "- Maracana Stadium in Brazil have had the most attendance.\n",
    "- Germany is 2nd best team, 4 trophies, 2nd in most wins and appearances.\n",
    "- Italy have also won 4 trophies.\n",
    "- Estadio Azteca in Mexico city, Mexico have hosted the most number of matches in world cup history.\n",
    "- There is more probability of wining (57.25%) as the home side than being the away side. "
   ]
  }
 ],
 "metadata": {
  "kernelspec": {
   "display_name": "Python 3",
   "language": "python",
   "name": "python3"
  },
  "language_info": {
   "codemirror_mode": {
    "name": "ipython",
    "version": 3
   },
   "file_extension": ".py",
   "mimetype": "text/x-python",
   "name": "python",
   "nbconvert_exporter": "python",
   "pygments_lexer": "ipython3",
   "version": "3.8.5"
  }
 },
 "nbformat": 4,
 "nbformat_minor": 2
}
